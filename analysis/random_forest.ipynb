{
 "cells": [
  {
   "cell_type": "code",
   "execution_count": 14,
   "metadata": {},
   "outputs": [],
   "source": [
    "import pandas as pd\n",
    "import numpy as np\n",
    "import optuna\n",
    "from sklearn.ensemble import RandomForestRegressor\n",
    "from sklearn.model_selection import train_test_split, KFold, cross_val_score\n",
    "from sklearn.metrics import r2_score, mean_absolute_error"
   ]
  },
  {
   "cell_type": "markdown",
   "metadata": {},
   "source": [
    "We use the same data here that was used to train the LightGBM model"
   ]
  },
  {
   "cell_type": "code",
   "execution_count": 5,
   "metadata": {},
   "outputs": [
    {
     "data": {
      "text/html": [
       "<div>\n",
       "<style scoped>\n",
       "    .dataframe tbody tr th:only-of-type {\n",
       "        vertical-align: middle;\n",
       "    }\n",
       "\n",
       "    .dataframe tbody tr th {\n",
       "        vertical-align: top;\n",
       "    }\n",
       "\n",
       "    .dataframe thead th {\n",
       "        text-align: right;\n",
       "    }\n",
       "</style>\n",
       "<table border=\"1\" class=\"dataframe\">\n",
       "  <thead>\n",
       "    <tr style=\"text-align: right;\">\n",
       "      <th></th>\n",
       "      <th>pickup_count</th>\n",
       "      <th>lon</th>\n",
       "      <th>lat</th>\n",
       "      <th>time_sin</th>\n",
       "      <th>time_cos</th>\n",
       "      <th>day_sin</th>\n",
       "      <th>day_cos</th>\n",
       "    </tr>\n",
       "  </thead>\n",
       "  <tbody>\n",
       "    <tr>\n",
       "      <th>0</th>\n",
       "      <td>1.386294</td>\n",
       "      <td>-74.174002</td>\n",
       "      <td>40.69183</td>\n",
       "      <td>0.000000</td>\n",
       "      <td>1.000000</td>\n",
       "      <td>-0.974928</td>\n",
       "      <td>-0.222521</td>\n",
       "    </tr>\n",
       "    <tr>\n",
       "      <th>1</th>\n",
       "      <td>1.609438</td>\n",
       "      <td>-74.174002</td>\n",
       "      <td>40.69183</td>\n",
       "      <td>0.258819</td>\n",
       "      <td>0.965926</td>\n",
       "      <td>-0.974928</td>\n",
       "      <td>-0.222521</td>\n",
       "    </tr>\n",
       "    <tr>\n",
       "      <th>2</th>\n",
       "      <td>2.079442</td>\n",
       "      <td>-74.174002</td>\n",
       "      <td>40.69183</td>\n",
       "      <td>0.500000</td>\n",
       "      <td>0.866025</td>\n",
       "      <td>-0.974928</td>\n",
       "      <td>-0.222521</td>\n",
       "    </tr>\n",
       "    <tr>\n",
       "      <th>3</th>\n",
       "      <td>2.197225</td>\n",
       "      <td>-74.174002</td>\n",
       "      <td>40.69183</td>\n",
       "      <td>0.707107</td>\n",
       "      <td>0.707107</td>\n",
       "      <td>-0.974928</td>\n",
       "      <td>-0.222521</td>\n",
       "    </tr>\n",
       "    <tr>\n",
       "      <th>4</th>\n",
       "      <td>2.772589</td>\n",
       "      <td>-74.174002</td>\n",
       "      <td>40.69183</td>\n",
       "      <td>0.866025</td>\n",
       "      <td>0.500000</td>\n",
       "      <td>-0.974928</td>\n",
       "      <td>-0.222521</td>\n",
       "    </tr>\n",
       "  </tbody>\n",
       "</table>\n",
       "</div>"
      ],
      "text/plain": [
       "   pickup_count        lon       lat  time_sin  time_cos   day_sin   day_cos\n",
       "0      1.386294 -74.174002  40.69183  0.000000  1.000000 -0.974928 -0.222521\n",
       "1      1.609438 -74.174002  40.69183  0.258819  0.965926 -0.974928 -0.222521\n",
       "2      2.079442 -74.174002  40.69183  0.500000  0.866025 -0.974928 -0.222521\n",
       "3      2.197225 -74.174002  40.69183  0.707107  0.707107 -0.974928 -0.222521\n",
       "4      2.772589 -74.174002  40.69183  0.866025  0.500000 -0.974928 -0.222521"
      ]
     },
     "execution_count": 5,
     "metadata": {},
     "output_type": "execute_result"
    }
   ],
   "source": [
    "df = pd.read_parquet('../data/processed_data/yellow_23-24_data.parquet')\n",
    "df.head()"
   ]
  },
  {
   "cell_type": "code",
   "execution_count": 7,
   "metadata": {},
   "outputs": [],
   "source": [
    "y = df['pickup_count']\n",
    "X = df.drop(columns=['pickup_count'])\n",
    "\n",
    "X_train, X_test, y_train, y_test = train_test_split(X, y, test_size=0.2, random_state=42)"
   ]
  },
  {
   "cell_type": "code",
   "execution_count": 13,
   "metadata": {},
   "outputs": [
    {
     "name": "stderr",
     "output_type": "stream",
     "text": [
      "[I 2024-12-01 09:35:37,859] A new study created in memory with name: no-name-bfe66ce9-09ac-4281-bcda-8967be012e2f\n",
      "[I 2024-12-01 09:35:52,159] Trial 0 finished with value: 0.3343541085825457 and parameters: {'n_estimators': 225, 'max_depth': 13, 'min_samples_split': 34, 'min_samples_leaf': 5, 'max_features': 0.5569736706034885}. Best is trial 0 with value: 0.3343541085825457.\n",
      "[I 2024-12-01 09:36:08,059] Trial 1 finished with value: 2.9892037129962548 and parameters: {'n_estimators': 915, 'max_depth': 5, 'min_samples_split': 13, 'min_samples_leaf': 6, 'max_features': 0.2784405392295266}. Best is trial 0 with value: 0.3343541085825457.\n",
      "[I 2024-12-01 09:36:28,935] Trial 2 finished with value: 0.8370329062175393 and parameters: {'n_estimators': 486, 'max_depth': 7, 'min_samples_split': 39, 'min_samples_leaf': 7, 'max_features': 0.6307665333555101}. Best is trial 0 with value: 0.3343541085825457.\n",
      "[I 2024-12-01 09:37:18,194] Trial 3 finished with value: 0.33494497798054335 and parameters: {'n_estimators': 680, 'max_depth': 11, 'min_samples_split': 31, 'min_samples_leaf': 4, 'max_features': 0.7282819498567745}. Best is trial 0 with value: 0.3343541085825457.\n",
      "[I 2024-12-01 09:37:19,962] Trial 4 finished with value: 3.8769797394733394 and parameters: {'n_estimators': 134, 'max_depth': 2, 'min_samples_split': 51, 'min_samples_leaf': 2, 'max_features': 0.4010258603707264}. Best is trial 0 with value: 0.3343541085825457.\n",
      "[I 2024-12-01 09:37:54,090] Trial 5 finished with value: 0.5838447661811752 and parameters: {'n_estimators': 482, 'max_depth': 8, 'min_samples_split': 27, 'min_samples_leaf': 9, 'max_features': 0.8446827394993909}. Best is trial 0 with value: 0.3343541085825457.\n",
      "[I 2024-12-01 09:38:44,318] Trial 6 finished with value: 0.2771441648478977 and parameters: {'n_estimators': 531, 'max_depth': 23, 'min_samples_split': 43, 'min_samples_leaf': 4, 'max_features': 0.8535542404058934}. Best is trial 6 with value: 0.2771441648478977.\n",
      "[I 2024-12-01 09:38:59,065] Trial 7 finished with value: 2.553160753501719 and parameters: {'n_estimators': 622, 'max_depth': 2, 'min_samples_split': 90, 'min_samples_leaf': 4, 'max_features': 0.875189575788045}. Best is trial 6 with value: 0.2771441648478977.\n",
      "[I 2024-12-01 09:39:13,681] Trial 8 finished with value: 1.5889680044734147 and parameters: {'n_estimators': 547, 'max_depth': 10, 'min_samples_split': 96, 'min_samples_leaf': 9, 'max_features': 0.1994694655982863}. Best is trial 6 with value: 0.2771441648478977.\n",
      "[I 2024-12-01 09:39:26,336] Trial 9 finished with value: 3.1223085648549693 and parameters: {'n_estimators': 719, 'max_depth': 2, 'min_samples_split': 54, 'min_samples_leaf': 8, 'max_features': 0.5800501528410571}. Best is trial 6 with value: 0.2771441648478977.\n",
      "[I 2024-12-01 09:39:54,798] Trial 10 finished with value: 0.35115965150064643 and parameters: {'n_estimators': 312, 'max_depth': 30, 'min_samples_split': 73, 'min_samples_leaf': 1, 'max_features': 0.9415540777642322}. Best is trial 6 with value: 0.2771441648478977.\n",
      "[I 2024-12-01 09:40:08,047] Trial 11 finished with value: 0.3906707604515614 and parameters: {'n_estimators': 228, 'max_depth': 24, 'min_samples_split': 6, 'min_samples_leaf': 4, 'max_features': 0.4392484674342419}. Best is trial 6 with value: 0.2771441648478977.\n",
      "[I 2024-12-01 09:40:34,001] Trial 12 finished with value: 0.31144862181844735 and parameters: {'n_estimators': 339, 'max_depth': 16, 'min_samples_split': 56, 'min_samples_leaf': 5, 'max_features': 0.744059061148167}. Best is trial 6 with value: 0.2771441648478977.\n",
      "[I 2024-12-01 09:41:03,245] Trial 13 finished with value: 0.33240613171234523 and parameters: {'n_estimators': 386, 'max_depth': 21, 'min_samples_split': 66, 'min_samples_leaf': 3, 'max_features': 0.7543522152992286}. Best is trial 6 with value: 0.2771441648478977.\n",
      "[I 2024-12-01 09:42:01,354] Trial 14 finished with value: 0.35961565836681464 and parameters: {'n_estimators': 781, 'max_depth': 16, 'min_samples_split': 73, 'min_samples_leaf': 6, 'max_features': 0.7344539829059121}. Best is trial 6 with value: 0.2771441648478977.\n",
      "[I 2024-12-01 09:42:37,228] Trial 15 finished with value: 0.29355920256345663 and parameters: {'n_estimators': 387, 'max_depth': 21, 'min_samples_split': 52, 'min_samples_leaf': 2, 'max_features': 0.9379509928739734}. Best is trial 6 with value: 0.2771441648478977.\n",
      "[I 2024-12-01 09:42:55,697] Trial 16 finished with value: 1.651862841835864 and parameters: {'n_estimators': 450, 'max_depth': 4, 'min_samples_split': 44, 'min_samples_leaf': 1, 'max_features': 0.9624968579114008}. Best is trial 6 with value: 0.2771441648478977.\n",
      "[I 2024-12-01 09:44:26,747] Trial 17 finished with value: 0.21007544545030324 and parameters: {'n_estimators': 873, 'max_depth': 32, 'min_samples_split': 21, 'min_samples_leaf': 2, 'max_features': 0.8545006542205666}. Best is trial 17 with value: 0.21007544545030324.\n",
      "[I 2024-12-01 09:46:11,010] Trial 18 finished with value: 0.2091421853010075 and parameters: {'n_estimators': 993, 'max_depth': 31, 'min_samples_split': 20, 'min_samples_leaf': 3, 'max_features': 0.836100758947401}. Best is trial 18 with value: 0.2091421853010075.\n",
      "[I 2024-12-01 09:47:03,704] Trial 19 finished with value: 0.4187879158661575 and parameters: {'n_estimators': 998, 'max_depth': 31, 'min_samples_split': 18, 'min_samples_leaf': 2, 'max_features': 0.4301326809777956}. Best is trial 18 with value: 0.2091421853010075.\n",
      "[I 2024-12-01 09:47:28,187] Trial 20 finished with value: 1.7773273261065377 and parameters: {'n_estimators': 857, 'max_depth': 4, 'min_samples_split': 21, 'min_samples_leaf': 3, 'max_features': 0.6536410633628164}. Best is trial 18 with value: 0.2091421853010075.\n",
      "[I 2024-12-01 09:49:30,172] Trial 21 finished with value: 0.17555811936843763 and parameters: {'n_estimators': 1000, 'max_depth': 32, 'min_samples_split': 4, 'min_samples_leaf': 3, 'max_features': 0.8381528936013682}. Best is trial 21 with value: 0.17555811936843763.\n",
      "[I 2024-12-01 09:51:31,810] Trial 22 finished with value: 0.17554576579849657 and parameters: {'n_estimators': 994, 'max_depth': 32, 'min_samples_split': 4, 'min_samples_leaf': 3, 'max_features': 0.999611372253155}. Best is trial 22 with value: 0.17554576579849657.\n",
      "[I 2024-12-01 09:53:26,587] Trial 23 finished with value: 0.17829600713860483 and parameters: {'n_estimators': 975, 'max_depth': 17, 'min_samples_split': 4, 'min_samples_leaf': 3, 'max_features': 0.9518148307001862}. Best is trial 22 with value: 0.17554576579849657.\n",
      "[I 2024-12-01 09:55:14,781] Trial 24 finished with value: 0.17828043281149472 and parameters: {'n_estimators': 920, 'max_depth': 17, 'min_samples_split': 2, 'min_samples_leaf': 3, 'max_features': 0.9881808211743612}. Best is trial 22 with value: 0.17554576579849657.\n",
      "[I 2024-12-01 09:56:48,935] Trial 25 finished with value: 0.17800090497320858 and parameters: {'n_estimators': 808, 'max_depth': 25, 'min_samples_split': 10, 'min_samples_leaf': 1, 'max_features': 0.9969742242642468}. Best is trial 22 with value: 0.17554576579849657.\n",
      "[I 2024-12-01 09:58:05,871] Trial 26 finished with value: 0.18057328168204456 and parameters: {'n_estimators': 801, 'max_depth': 25, 'min_samples_split': 11, 'min_samples_leaf': 1, 'max_features': 0.7853179330479633}. Best is trial 22 with value: 0.17554576579849657.\n",
      "[I 2024-12-01 09:59:21,339] Trial 27 finished with value: 0.25010809458804195 and parameters: {'n_estimators': 769, 'max_depth': 12, 'min_samples_split': 9, 'min_samples_leaf': 1, 'max_features': 0.9135635019858589}. Best is trial 22 with value: 0.17554576579849657.\n",
      "[I 2024-12-01 10:00:55,025] Trial 28 finished with value: 0.23492795464400534 and parameters: {'n_estimators': 918, 'max_depth': 25, 'min_samples_split': 14, 'min_samples_leaf': 10, 'max_features': 0.9966527770083254}. Best is trial 22 with value: 0.17554576579849657.\n",
      "[I 2024-12-01 10:02:01,443] Trial 29 finished with value: 0.2739894714144014 and parameters: {'n_estimators': 847, 'max_depth': 13, 'min_samples_split': 29, 'min_samples_leaf': 5, 'max_features': 0.6700287541582158}. Best is trial 22 with value: 0.17554576579849657.\n",
      "[I 2024-12-01 10:03:08,983] Trial 30 finished with value: 0.1678036719578692 and parameters: {'n_estimators': 626, 'max_depth': 20, 'min_samples_split': 2, 'min_samples_leaf': 2, 'max_features': 0.7990613834071854}. Best is trial 30 with value: 0.1678036719578692.\n",
      "[I 2024-12-01 10:04:27,399] Trial 31 finished with value: 0.16771656477857078 and parameters: {'n_estimators': 615, 'max_depth': 19, 'min_samples_split': 2, 'min_samples_leaf': 2, 'max_features': 0.8913621126613941}. Best is trial 31 with value: 0.16771656477857078.\n",
      "[I 2024-12-01 10:05:34,324] Trial 32 finished with value: 0.16780562302335483 and parameters: {'n_estimators': 620, 'max_depth': 20, 'min_samples_split': 2, 'min_samples_leaf': 2, 'max_features': 0.8053431852956758}. Best is trial 31 with value: 0.16771656477857078.\n",
      "[I 2024-12-01 10:06:30,376] Trial 33 finished with value: 0.19240371478868973 and parameters: {'n_estimators': 609, 'max_depth': 19, 'min_samples_split': 14, 'min_samples_leaf': 2, 'max_features': 0.7910808886582831}. Best is trial 31 with value: 0.16771656477857078.\n",
      "[I 2024-12-01 10:07:04,938] Trial 34 finished with value: 0.5106807238292201 and parameters: {'n_estimators': 640, 'max_depth': 9, 'min_samples_split': 3, 'min_samples_leaf': 2, 'max_features': 0.5002465126773606}. Best is trial 31 with value: 0.16771656477857078.\n",
      "[I 2024-12-01 10:08:11,722] Trial 35 finished with value: 0.27038250824956495 and parameters: {'n_estimators': 704, 'max_depth': 14, 'min_samples_split': 35, 'min_samples_leaf': 2, 'max_features': 0.9183117029099448}. Best is trial 31 with value: 0.16771656477857078.\n",
      "[I 2024-12-01 10:08:36,723] Trial 36 finished with value: 1.2653148753449113 and parameters: {'n_estimators': 590, 'max_depth': 5, 'min_samples_split': 26, 'min_samples_leaf': 4, 'max_features': 0.6860178942757796}. Best is trial 31 with value: 0.16771656477857078.\n",
      "[I 2024-12-01 10:09:21,978] Trial 37 finished with value: 0.2693937987540331 and parameters: {'n_estimators': 672, 'max_depth': 14, 'min_samples_split': 16, 'min_samples_leaf': 6, 'max_features': 0.5749725880893186}. Best is trial 31 with value: 0.16771656477857078.\n",
      "[I 2024-12-01 10:09:51,566] Trial 38 finished with value: 0.9526641115394042 and parameters: {'n_estimators': 514, 'max_depth': 6, 'min_samples_split': 9, 'min_samples_leaf': 5, 'max_features': 0.892064142009487}. Best is trial 31 with value: 0.16771656477857078.\n",
      "[I 2024-12-01 10:11:00,636] Trial 39 finished with value: 0.16330152753211752 and parameters: {'n_estimators': 570, 'max_depth': 20, 'min_samples_split': 2, 'min_samples_leaf': 1, 'max_features': 0.8028064306711238}. Best is trial 39 with value: 0.16330152753211752.\n",
      "[I 2024-12-01 10:11:33,412] Trial 40 finished with value: 0.37564032342654885 and parameters: {'n_estimators': 460, 'max_depth': 10, 'min_samples_split': 23, 'min_samples_leaf': 1, 'max_features': 0.8085510402721424}. Best is trial 39 with value: 0.16330152753211752.\n",
      "[I 2024-12-01 10:12:01,101] Trial 41 finished with value: 0.8610196808907922 and parameters: {'n_estimators': 574, 'max_depth': 19, 'min_samples_split': 2, 'min_samples_leaf': 2, 'max_features': 0.30866065725924263}. Best is trial 39 with value: 0.16330152753211752.\n",
      "[I 2024-12-01 10:13:31,084] Trial 42 finished with value: 0.1701897027825962 and parameters: {'n_estimators': 735, 'max_depth': 26, 'min_samples_split': 7, 'min_samples_leaf': 1, 'max_features': 0.8938352519719542}. Best is trial 39 with value: 0.16330152753211752.\n",
      "[I 2024-12-01 10:14:37,392] Trial 43 finished with value: 0.17487496055789525 and parameters: {'n_estimators': 672, 'max_depth': 21, 'min_samples_split': 9, 'min_samples_leaf': 1, 'max_features': 0.71344317878441}. Best is trial 39 with value: 0.16330152753211752.\n",
      "[I 2024-12-01 10:15:31,112] Trial 44 finished with value: 0.24815669813061847 and parameters: {'n_estimators': 751, 'max_depth': 27, 'min_samples_split': 13, 'min_samples_leaf': 7, 'max_features': 0.6288592615974926}. Best is trial 39 with value: 0.16330152753211752.\n",
      "[I 2024-12-01 10:16:47,194] Trial 45 finished with value: 0.17297637554348524 and parameters: {'n_estimators': 640, 'max_depth': 19, 'min_samples_split': 8, 'min_samples_leaf': 1, 'max_features': 0.8783234531415182}. Best is trial 39 with value: 0.16330152753211752.\n",
      "[I 2024-12-01 10:17:07,887] Trial 46 finished with value: 0.9955857039099574 and parameters: {'n_estimators': 553, 'max_depth': 15, 'min_samples_split': 16, 'min_samples_leaf': 2, 'max_features': 0.1238502503469398}. Best is trial 39 with value: 0.16330152753211752.\n",
      "[I 2024-12-01 10:18:07,159] Trial 47 finished with value: 0.24608643758056012 and parameters: {'n_estimators': 716, 'max_depth': 22, 'min_samples_split': 33, 'min_samples_leaf': 1, 'max_features': 0.7707746116824213}. Best is trial 39 with value: 0.16330152753211752.\n",
      "[I 2024-12-01 10:18:49,551] Trial 48 finished with value: 0.2584364527042847 and parameters: {'n_estimators': 523, 'max_depth': 12, 'min_samples_split': 7, 'min_samples_leaf': 4, 'max_features': 0.8158589640200338}. Best is trial 39 with value: 0.16330152753211752.\n",
      "[I 2024-12-01 10:19:01,471] Trial 49 finished with value: 2.28412573800109 and parameters: {'n_estimators': 489, 'max_depth': 3, 'min_samples_split': 25, 'min_samples_leaf': 1, 'max_features': 0.6100764579340653}. Best is trial 39 with value: 0.16330152753211752.\n",
      "[I 2024-12-01 10:19:49,240] Trial 50 finished with value: 0.38366762209989735 and parameters: {'n_estimators': 645, 'max_depth': 28, 'min_samples_split': 85, 'min_samples_leaf': 2, 'max_features': 0.7060092517353761}. Best is trial 39 with value: 0.16330152753211752.\n",
      "[I 2024-12-01 10:21:02,150] Trial 51 finished with value: 0.17010213776560507 and parameters: {'n_estimators': 602, 'max_depth': 19, 'min_samples_split': 7, 'min_samples_leaf': 1, 'max_features': 0.8807631819684895}. Best is trial 39 with value: 0.16330152753211752.\n",
      "[I 2024-12-01 10:22:10,208] Trial 52 finished with value: 0.1755536722973308 and parameters: {'n_estimators': 580, 'max_depth': 17, 'min_samples_split': 7, 'min_samples_leaf': 2, 'max_features': 0.8875233068240478}. Best is trial 39 with value: 0.16330152753211752.\n",
      "[I 2024-12-01 10:23:33,454] Trial 53 finished with value: 0.18417035282664843 and parameters: {'n_estimators': 737, 'max_depth': 20, 'min_samples_split': 12, 'min_samples_leaf': 1, 'max_features': 0.8584181328975911}. Best is trial 39 with value: 0.16330152753211752.\n",
      "[I 2024-12-01 10:24:59,713] Trial 54 finished with value: 0.16562614155288025 and parameters: {'n_estimators': 690, 'max_depth': 27, 'min_samples_split': 2, 'min_samples_leaf': 1, 'max_features': 0.7458135208327736}. Best is trial 39 with value: 0.16330152753211752.\n",
      "[I 2024-12-01 10:25:11,083] Trial 55 finished with value: 0.16941278443791938 and parameters: {'n_estimators': 103, 'max_depth': 23, 'min_samples_split': 2, 'min_samples_leaf': 2, 'max_features': 0.7539592878411147}. Best is trial 39 with value: 0.16330152753211752.\n",
      "[I 2024-12-01 10:25:27,610] Trial 56 finished with value: 0.16842139382378743 and parameters: {'n_estimators': 151, 'max_depth': 22, 'min_samples_split': 2, 'min_samples_leaf': 2, 'max_features': 0.7563526201655688}. Best is trial 39 with value: 0.16330152753211752.\n",
      "[I 2024-12-01 10:26:06,902] Trial 57 finished with value: 0.20523786983674577 and parameters: {'n_estimators': 441, 'max_depth': 23, 'min_samples_split': 18, 'min_samples_leaf': 3, 'max_features': 0.8189542756690741}. Best is trial 39 with value: 0.16330152753211752.\n",
      "[I 2024-12-01 10:26:22,256] Trial 58 finished with value: 0.19675995430272825 and parameters: {'n_estimators': 187, 'max_depth': 28, 'min_samples_split': 2, 'min_samples_leaf': 3, 'max_features': 0.5343703022904889}. Best is trial 39 with value: 0.16330152753211752.\n",
      "[I 2024-12-01 10:27:13,570] Trial 59 finished with value: 0.33174523087343877 and parameters: {'n_estimators': 673, 'max_depth': 15, 'min_samples_split': 63, 'min_samples_leaf': 2, 'max_features': 0.7489116048661968}. Best is trial 39 with value: 0.16330152753211752.\n",
      "[I 2024-12-01 10:27:28,816] Trial 60 finished with value: 0.7389455858551582 and parameters: {'n_estimators': 278, 'max_depth': 7, 'min_samples_split': 17, 'min_samples_leaf': 2, 'max_features': 0.7224403943717406}. Best is trial 39 with value: 0.16330152753211752.\n",
      "[I 2024-12-01 10:27:40,234] Trial 61 finished with value: 0.16940373478430715 and parameters: {'n_estimators': 104, 'max_depth': 23, 'min_samples_split': 4, 'min_samples_leaf': 2, 'max_features': 0.7710457103103676}. Best is trial 39 with value: 0.16330152753211752.\n",
      "[I 2024-12-01 10:27:56,403] Trial 62 finished with value: 0.18127123143186513 and parameters: {'n_estimators': 163, 'max_depth': 17, 'min_samples_split': 5, 'min_samples_leaf': 3, 'max_features': 0.7896412813719785}. Best is trial 39 with value: 0.16330152753211752.\n",
      "[I 2024-12-01 10:28:20,167] Trial 63 finished with value: 0.1863017270481236 and parameters: {'n_estimators': 251, 'max_depth': 22, 'min_samples_split': 12, 'min_samples_leaf': 2, 'max_features': 0.7624823640463892}. Best is trial 39 with value: 0.16330152753211752.\n",
      "[I 2024-12-01 10:29:12,595] Trial 64 finished with value: 0.2850260534410183 and parameters: {'n_estimators': 555, 'max_depth': 29, 'min_samples_split': 47, 'min_samples_leaf': 3, 'max_features': 0.8461411482149145}. Best is trial 39 with value: 0.16330152753211752.\n",
      "[I 2024-12-01 10:29:23,188] Trial 65 finished with value: 0.18900971327742094 and parameters: {'n_estimators': 109, 'max_depth': 18, 'min_samples_split': 5, 'min_samples_leaf': 4, 'max_features': 0.6771679240998669}. Best is trial 39 with value: 0.16330152753211752.\n",
      "[I 2024-12-01 10:29:39,474] Trial 66 finished with value: 0.2232310910030461 and parameters: {'n_estimators': 185, 'max_depth': 25, 'min_samples_split': 11, 'min_samples_leaf': 8, 'max_features': 0.8225934541551148}. Best is trial 39 with value: 0.16330152753211752.\n",
      "[I 2024-12-01 10:29:57,647] Trial 67 finished with value: 0.17522310185092796 and parameters: {'n_estimators': 152, 'max_depth': 16, 'min_samples_split': 5, 'min_samples_leaf': 2, 'max_features': 0.9233030738844803}. Best is trial 39 with value: 0.16330152753211752.\n",
      "[I 2024-12-01 10:30:27,365] Trial 68 finished with value: 0.41010160982077715 and parameters: {'n_estimators': 407, 'max_depth': 21, 'min_samples_split': 99, 'min_samples_leaf': 1, 'max_features': 0.7010949323592269}. Best is trial 39 with value: 0.16330152753211752.\n",
      "[I 2024-12-01 10:31:24,691] Trial 69 finished with value: 0.19446886438046426 and parameters: {'n_estimators': 625, 'max_depth': 24, 'min_samples_split': 15, 'min_samples_leaf': 2, 'max_features': 0.7897372242820575}. Best is trial 39 with value: 0.16330152753211752.\n",
      "[I 2024-12-01 10:31:57,296] Trial 70 finished with value: 0.2854932340244104 and parameters: {'n_estimators': 500, 'max_depth': 13, 'min_samples_split': 20, 'min_samples_leaf': 3, 'max_features': 0.6444554032197847}. Best is trial 39 with value: 0.16330152753211752.\n",
      "[I 2024-12-01 10:32:08,539] Trial 71 finished with value: 0.16938732664591635 and parameters: {'n_estimators': 102, 'max_depth': 23, 'min_samples_split': 2, 'min_samples_leaf': 2, 'max_features': 0.7366501707011356}. Best is trial 39 with value: 0.16330152753211752.\n",
      "[I 2024-12-01 10:32:21,626] Trial 72 finished with value: 0.1681859174397493 and parameters: {'n_estimators': 121, 'max_depth': 20, 'min_samples_split': 2, 'min_samples_leaf': 2, 'max_features': 0.7307772647111082}. Best is trial 39 with value: 0.16330152753211752.\n",
      "[I 2024-12-01 10:32:42,396] Trial 73 finished with value: 0.18003228225712814 and parameters: {'n_estimators': 215, 'max_depth': 18, 'min_samples_split': 10, 'min_samples_leaf': 1, 'max_features': 0.8024527309923966}. Best is trial 39 with value: 0.16330152753211752.\n",
      "[I 2024-12-01 10:32:55,875] Trial 74 finished with value: 0.17706816503494296 and parameters: {'n_estimators': 132, 'max_depth': 20, 'min_samples_split': 2, 'min_samples_leaf': 3, 'max_features': 0.7263824993137817}. Best is trial 39 with value: 0.16330152753211752.\n",
      "[I 2024-12-01 10:33:09,458] Trial 75 finished with value: 0.16755308910223254 and parameters: {'n_estimators': 128, 'max_depth': 27, 'min_samples_split': 6, 'min_samples_leaf': 1, 'max_features': 0.7402326967809878}. Best is trial 39 with value: 0.16330152753211752.\n",
      "[I 2024-12-01 10:34:37,338] Trial 76 finished with value: 0.16789552222869683 and parameters: {'n_estimators': 700, 'max_depth': 26, 'min_samples_split': 6, 'min_samples_leaf': 1, 'max_features': 0.8404367326012536}. Best is trial 39 with value: 0.16330152753211752.\n",
      "[I 2024-12-01 10:36:05,005] Trial 77 finished with value: 0.1679181707981866 and parameters: {'n_estimators': 698, 'max_depth': 30, 'min_samples_split': 6, 'min_samples_leaf': 1, 'max_features': 0.8588317149582528}. Best is trial 39 with value: 0.16330152753211752.\n",
      "[I 2024-12-01 10:37:32,558] Trial 78 finished with value: 0.16792303477311255 and parameters: {'n_estimators': 697, 'max_depth': 30, 'min_samples_split': 6, 'min_samples_leaf': 1, 'max_features': 0.9695107677909696}. Best is trial 39 with value: 0.16330152753211752.\n",
      "[I 2024-12-01 10:38:48,616] Trial 79 finished with value: 0.17812802101201333 and parameters: {'n_estimators': 653, 'max_depth': 27, 'min_samples_split': 10, 'min_samples_leaf': 1, 'max_features': 0.8568990659022686}. Best is trial 39 with value: 0.16330152753211752.\n",
      "[I 2024-12-01 10:40:15,562] Trial 80 finished with value: 0.18974560440210672 and parameters: {'n_estimators': 785, 'max_depth': 31, 'min_samples_split': 14, 'min_samples_leaf': 1, 'max_features': 0.9095508489945663}. Best is trial 39 with value: 0.16330152753211752.\n",
      "[I 2024-12-01 10:41:33,486] Trial 81 finished with value: 0.1679333098629669 and parameters: {'n_estimators': 621, 'max_depth': 29, 'min_samples_split': 6, 'min_samples_leaf': 1, 'max_features': 0.9662292887689664}. Best is trial 39 with value: 0.16330152753211752.\n",
      "[I 2024-12-01 10:42:56,191] Trial 82 finished with value: 0.1726321203655103 and parameters: {'n_estimators': 688, 'max_depth': 25, 'min_samples_split': 8, 'min_samples_leaf': 1, 'max_features': 0.9452698698517118}. Best is trial 39 with value: 0.16330152753211752.\n",
      "[I 2024-12-01 10:44:24,419] Trial 83 finished with value: 0.16791390321176936 and parameters: {'n_estimators': 706, 'max_depth': 30, 'min_samples_split': 6, 'min_samples_leaf': 1, 'max_features': 0.8363687879993411}. Best is trial 39 with value: 0.16330152753211752.\n",
      "[I 2024-12-01 10:45:35,618] Trial 84 finished with value: 0.26089537887792175 and parameters: {'n_estimators': 755, 'max_depth': 26, 'min_samples_split': 38, 'min_samples_leaf': 1, 'max_features': 0.8376440961432311}. Best is trial 39 with value: 0.16330152753211752.\n",
      "[I 2024-12-01 10:47:06,899] Trial 85 finished with value: 0.18393773064983449 and parameters: {'n_estimators': 822, 'max_depth': 27, 'min_samples_split': 12, 'min_samples_leaf': 1, 'max_features': 0.8686787486977962}. Best is trial 39 with value: 0.16330152753211752.\n",
      "[I 2024-12-01 10:48:16,132] Trial 86 finished with value: 0.17482473158376816 and parameters: {'n_estimators': 715, 'max_depth': 32, 'min_samples_split': 9, 'min_samples_leaf': 1, 'max_features': 0.8274015176796902}. Best is trial 39 with value: 0.16330152753211752.\n",
      "[I 2024-12-01 10:48:58,527] Trial 87 finished with value: 0.32026983236199086 and parameters: {'n_estimators': 659, 'max_depth': 30, 'min_samples_split': 5, 'min_samples_leaf': 1, 'max_features': 0.3534650938551128}. Best is trial 39 with value: 0.16330152753211752.\n",
      "[I 2024-12-01 10:49:15,339] Trial 88 finished with value: 2.10760121276975 and parameters: {'n_estimators': 614, 'max_depth': 3, 'min_samples_split': 18, 'min_samples_leaf': 1, 'max_features': 0.8049657246446069}. Best is trial 39 with value: 0.16330152753211752.\n",
      "[I 2024-12-01 10:50:13,230] Trial 89 finished with value: 0.21455072601429864 and parameters: {'n_estimators': 572, 'max_depth': 27, 'min_samples_split': 23, 'min_samples_leaf': 1, 'max_features': 0.9003549660110973}. Best is trial 39 with value: 0.16330152753211752.\n",
      "[I 2024-12-01 10:51:15,571] Trial 90 finished with value: 0.17523239208087105 and parameters: {'n_estimators': 533, 'max_depth': 24, 'min_samples_split': 8, 'min_samples_leaf': 2, 'max_features': 0.9313574058588463}. Best is trial 39 with value: 0.16330152753211752.\n",
      "[I 2024-12-01 10:52:40,700] Trial 91 finished with value: 0.167905566896792 and parameters: {'n_estimators': 691, 'max_depth': 29, 'min_samples_split': 6, 'min_samples_leaf': 1, 'max_features': 0.9759286857473226}. Best is trial 39 with value: 0.16330152753211752.\n",
      "[I 2024-12-01 10:54:13,032] Trial 92 finished with value: 0.16580617417274995 and parameters: {'n_estimators': 729, 'max_depth': 29, 'min_samples_split': 5, 'min_samples_leaf': 1, 'max_features': 0.8701608007387023}. Best is trial 39 with value: 0.16330152753211752.\n",
      "[I 2024-12-01 10:54:55,751] Trial 93 finished with value: 0.5745113884082391 and parameters: {'n_estimators': 729, 'max_depth': 8, 'min_samples_split': 4, 'min_samples_leaf': 1, 'max_features': 0.782594582743645}. Best is trial 39 with value: 0.16330152753211752.\n",
      "[I 2024-12-01 10:55:54,313] Trial 94 finished with value: 0.38037774703198785 and parameters: {'n_estimators': 679, 'max_depth': 26, 'min_samples_split': 83, 'min_samples_leaf': 1, 'max_features': 0.8408965115479132}. Best is trial 39 with value: 0.16330152753211752.\n",
      "[I 2024-12-01 10:56:59,174] Trial 95 finished with value: 0.18846962870860423 and parameters: {'n_estimators': 593, 'max_depth': 28, 'min_samples_split': 13, 'min_samples_leaf': 2, 'max_features': 0.8763533664633765}. Best is trial 39 with value: 0.16330152753211752.\n",
      "[I 2024-12-01 10:58:12,115] Trial 96 finished with value: 0.1781458725818606 and parameters: {'n_estimators': 640, 'max_depth': 22, 'min_samples_split': 10, 'min_samples_leaf': 1, 'max_features': 0.9059844474350424}. Best is trial 39 with value: 0.16330152753211752.\n",
      "[I 2024-12-01 10:59:49,584] Trial 97 finished with value: 0.16798128298443132 and parameters: {'n_estimators': 764, 'max_depth': 32, 'min_samples_split': 4, 'min_samples_leaf': 2, 'max_features': 0.9798838636076648}. Best is trial 39 with value: 0.16330152753211752.\n",
      "[I 2024-12-01 11:00:48,380] Trial 98 finished with value: 0.2122173911417499 and parameters: {'n_estimators': 566, 'max_depth': 18, 'min_samples_split': 8, 'min_samples_leaf': 7, 'max_features': 0.9491210628168733}. Best is trial 39 with value: 0.16330152753211752.\n",
      "[I 2024-12-01 11:01:50,552] Trial 99 finished with value: 0.1808559920875457 and parameters: {'n_estimators': 663, 'max_depth': 21, 'min_samples_split': 11, 'min_samples_leaf': 1, 'max_features': 0.7729730870159297}. Best is trial 39 with value: 0.16330152753211752.\n"
     ]
    },
    {
     "name": "stdout",
     "output_type": "stream",
     "text": [
      "Best parameters: {'n_estimators': 570, 'max_depth': 20, 'min_samples_split': 2, 'min_samples_leaf': 1, 'max_features': 0.8028064306711238}\n"
     ]
    },
    {
     "data": {
      "text/html": [
       "<style>#sk-container-id-1 {color: black;background-color: white;}#sk-container-id-1 pre{padding: 0;}#sk-container-id-1 div.sk-toggleable {background-color: white;}#sk-container-id-1 label.sk-toggleable__label {cursor: pointer;display: block;width: 100%;margin-bottom: 0;padding: 0.3em;box-sizing: border-box;text-align: center;}#sk-container-id-1 label.sk-toggleable__label-arrow:before {content: \"▸\";float: left;margin-right: 0.25em;color: #696969;}#sk-container-id-1 label.sk-toggleable__label-arrow:hover:before {color: black;}#sk-container-id-1 div.sk-estimator:hover label.sk-toggleable__label-arrow:before {color: black;}#sk-container-id-1 div.sk-toggleable__content {max-height: 0;max-width: 0;overflow: hidden;text-align: left;background-color: #f0f8ff;}#sk-container-id-1 div.sk-toggleable__content pre {margin: 0.2em;color: black;border-radius: 0.25em;background-color: #f0f8ff;}#sk-container-id-1 input.sk-toggleable__control:checked~div.sk-toggleable__content {max-height: 200px;max-width: 100%;overflow: auto;}#sk-container-id-1 input.sk-toggleable__control:checked~label.sk-toggleable__label-arrow:before {content: \"▾\";}#sk-container-id-1 div.sk-estimator input.sk-toggleable__control:checked~label.sk-toggleable__label {background-color: #d4ebff;}#sk-container-id-1 div.sk-label input.sk-toggleable__control:checked~label.sk-toggleable__label {background-color: #d4ebff;}#sk-container-id-1 input.sk-hidden--visually {border: 0;clip: rect(1px 1px 1px 1px);clip: rect(1px, 1px, 1px, 1px);height: 1px;margin: -1px;overflow: hidden;padding: 0;position: absolute;width: 1px;}#sk-container-id-1 div.sk-estimator {font-family: monospace;background-color: #f0f8ff;border: 1px dotted black;border-radius: 0.25em;box-sizing: border-box;margin-bottom: 0.5em;}#sk-container-id-1 div.sk-estimator:hover {background-color: #d4ebff;}#sk-container-id-1 div.sk-parallel-item::after {content: \"\";width: 100%;border-bottom: 1px solid gray;flex-grow: 1;}#sk-container-id-1 div.sk-label:hover label.sk-toggleable__label {background-color: #d4ebff;}#sk-container-id-1 div.sk-serial::before {content: \"\";position: absolute;border-left: 1px solid gray;box-sizing: border-box;top: 0;bottom: 0;left: 50%;z-index: 0;}#sk-container-id-1 div.sk-serial {display: flex;flex-direction: column;align-items: center;background-color: white;padding-right: 0.2em;padding-left: 0.2em;position: relative;}#sk-container-id-1 div.sk-item {position: relative;z-index: 1;}#sk-container-id-1 div.sk-parallel {display: flex;align-items: stretch;justify-content: center;background-color: white;position: relative;}#sk-container-id-1 div.sk-item::before, #sk-container-id-1 div.sk-parallel-item::before {content: \"\";position: absolute;border-left: 1px solid gray;box-sizing: border-box;top: 0;bottom: 0;left: 50%;z-index: -1;}#sk-container-id-1 div.sk-parallel-item {display: flex;flex-direction: column;z-index: 1;position: relative;background-color: white;}#sk-container-id-1 div.sk-parallel-item:first-child::after {align-self: flex-end;width: 50%;}#sk-container-id-1 div.sk-parallel-item:last-child::after {align-self: flex-start;width: 50%;}#sk-container-id-1 div.sk-parallel-item:only-child::after {width: 0;}#sk-container-id-1 div.sk-dashed-wrapped {border: 1px dashed gray;margin: 0 0.4em 0.5em 0.4em;box-sizing: border-box;padding-bottom: 0.4em;background-color: white;}#sk-container-id-1 div.sk-label label {font-family: monospace;font-weight: bold;display: inline-block;line-height: 1.2em;}#sk-container-id-1 div.sk-label-container {text-align: center;}#sk-container-id-1 div.sk-container {/* jupyter's `normalize.less` sets `[hidden] { display: none; }` but bootstrap.min.css set `[hidden] { display: none !important; }` so we also need the `!important` here to be able to override the default hidden behavior on the sphinx rendered scikit-learn.org. See: https://github.com/scikit-learn/scikit-learn/issues/21755 */display: inline-block !important;position: relative;}#sk-container-id-1 div.sk-text-repr-fallback {display: none;}</style><div id=\"sk-container-id-1\" class=\"sk-top-container\"><div class=\"sk-text-repr-fallback\"><pre>RandomForestRegressor(max_depth=20, max_features=0.8028064306711238,\n",
       "                      n_estimators=570, random_state=42)</pre><b>In a Jupyter environment, please rerun this cell to show the HTML representation or trust the notebook. <br />On GitHub, the HTML representation is unable to render, please try loading this page with nbviewer.org.</b></div><div class=\"sk-container\" hidden><div class=\"sk-item\"><div class=\"sk-estimator sk-toggleable\"><input class=\"sk-toggleable__control sk-hidden--visually\" id=\"sk-estimator-id-1\" type=\"checkbox\" checked><label for=\"sk-estimator-id-1\" class=\"sk-toggleable__label sk-toggleable__label-arrow\">RandomForestRegressor</label><div class=\"sk-toggleable__content\"><pre>RandomForestRegressor(max_depth=20, max_features=0.8028064306711238,\n",
       "                      n_estimators=570, random_state=42)</pre></div></div></div></div></div>"
      ],
      "text/plain": [
       "RandomForestRegressor(max_depth=20, max_features=0.8028064306711238,\n",
       "                      n_estimators=570, random_state=42)"
      ]
     },
     "execution_count": 13,
     "metadata": {},
     "output_type": "execute_result"
    }
   ],
   "source": [
    "def objective(trial):\n",
    "    params = {\n",
    "        'n_estimators': trial.suggest_int('n_estimators', 100, 1000),\n",
    "        'max_depth': trial.suggest_int('max_depth', 2, 32, log=True),\n",
    "        'min_samples_split': trial.suggest_int('min_samples_split', 2, 100),\n",
    "        'min_samples_leaf': trial.suggest_int('min_samples_leaf', 1, 10),\n",
    "        'max_features': trial.suggest_float('max_features', 0.1, 1.0)\n",
    "    }\n",
    "    \n",
    "    rf = RandomForestRegressor(**params, random_state=42)\n",
    "    \n",
    "    kf = KFold(n_splits=5, shuffle=True, random_state=42)\n",
    "    scores = cross_val_score(rf, X_train, y_train, cv=kf, scoring='neg_mean_squared_error')\n",
    "    \n",
    "    return -np.mean(scores)\n",
    "\n",
    "study = optuna.create_study(direction='minimize')  # We want to minimize MSE\n",
    "study.optimize(objective, n_trials=100)\n",
    "\n",
    "best_params = study.best_params\n",
    "print(\"Best parameters:\", best_params)\n",
    "\n",
    "best_rf = RandomForestRegressor(**best_params, random_state=42)\n",
    "best_rf.fit(X_train, y_train)"
   ]
  },
  {
   "cell_type": "code",
   "execution_count": 16,
   "metadata": {},
   "outputs": [
    {
     "name": "stdout",
     "output_type": "stream",
     "text": [
      "R^2 Score: 0.9782\n",
      "Mean Absolute Error: 0.2650\n"
     ]
    }
   ],
   "source": [
    "y_hat = best_rf.predict(X_test)\n",
    "r2 = r2_score(y_test, y_hat)\n",
    "mae = mean_absolute_error(y_test, y_hat)\n",
    "\n",
    "print(f\"R^2 Score: {r2:.4f}\")\n",
    "print(f\"Mean Absolute Error: {mae:.4f}\")"
   ]
  }
 ],
 "metadata": {
  "kernelspec": {
   "display_name": "Python 3",
   "language": "python",
   "name": "python3"
  },
  "language_info": {
   "codemirror_mode": {
    "name": "ipython",
    "version": 3
   },
   "file_extension": ".py",
   "mimetype": "text/x-python",
   "name": "python",
   "nbconvert_exporter": "python",
   "pygments_lexer": "ipython3",
   "version": "3.10.15"
  }
 },
 "nbformat": 4,
 "nbformat_minor": 2
}
