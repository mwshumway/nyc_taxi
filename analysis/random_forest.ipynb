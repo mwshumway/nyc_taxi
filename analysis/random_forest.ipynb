{
 "cells": [
  {
   "cell_type": "code",
   "execution_count": 11,
   "metadata": {},
   "outputs": [],
   "source": [
    "import pandas as pd\n",
    "import numpy as np\n",
    "import optuna\n",
    "from sklearn.ensemble import RandomForestRegressor\n",
    "from sklearn.model_selection import train_test_split, KFold, cross_val_score\n",
    "from sklearn.metrics import r2_score, mean_squared_error"
   ]
  },
  {
   "cell_type": "markdown",
   "metadata": {},
   "source": [
    "We use the same data here that was used to train the LightGBM model"
   ]
  },
  {
   "cell_type": "code",
   "execution_count": 12,
   "metadata": {},
   "outputs": [
    {
     "data": {
      "text/html": [
       "<div>\n",
       "<style scoped>\n",
       "    .dataframe tbody tr th:only-of-type {\n",
       "        vertical-align: middle;\n",
       "    }\n",
       "\n",
       "    .dataframe tbody tr th {\n",
       "        vertical-align: top;\n",
       "    }\n",
       "\n",
       "    .dataframe thead th {\n",
       "        text-align: right;\n",
       "    }\n",
       "</style>\n",
       "<table border=\"1\" class=\"dataframe\">\n",
       "  <thead>\n",
       "    <tr style=\"text-align: right;\">\n",
       "      <th></th>\n",
       "      <th>pickup_count</th>\n",
       "      <th>lon</th>\n",
       "      <th>lat</th>\n",
       "      <th>time_sin</th>\n",
       "      <th>time_cos</th>\n",
       "      <th>day_sin</th>\n",
       "      <th>day_cos</th>\n",
       "    </tr>\n",
       "  </thead>\n",
       "  <tbody>\n",
       "    <tr>\n",
       "      <th>0</th>\n",
       "      <td>1.386294</td>\n",
       "      <td>-74.174002</td>\n",
       "      <td>40.69183</td>\n",
       "      <td>0.000000</td>\n",
       "      <td>1.000000</td>\n",
       "      <td>-0.974928</td>\n",
       "      <td>-0.222521</td>\n",
       "    </tr>\n",
       "    <tr>\n",
       "      <th>1</th>\n",
       "      <td>1.609438</td>\n",
       "      <td>-74.174002</td>\n",
       "      <td>40.69183</td>\n",
       "      <td>0.258819</td>\n",
       "      <td>0.965926</td>\n",
       "      <td>-0.974928</td>\n",
       "      <td>-0.222521</td>\n",
       "    </tr>\n",
       "    <tr>\n",
       "      <th>2</th>\n",
       "      <td>2.079442</td>\n",
       "      <td>-74.174002</td>\n",
       "      <td>40.69183</td>\n",
       "      <td>0.500000</td>\n",
       "      <td>0.866025</td>\n",
       "      <td>-0.974928</td>\n",
       "      <td>-0.222521</td>\n",
       "    </tr>\n",
       "    <tr>\n",
       "      <th>3</th>\n",
       "      <td>2.197225</td>\n",
       "      <td>-74.174002</td>\n",
       "      <td>40.69183</td>\n",
       "      <td>0.707107</td>\n",
       "      <td>0.707107</td>\n",
       "      <td>-0.974928</td>\n",
       "      <td>-0.222521</td>\n",
       "    </tr>\n",
       "    <tr>\n",
       "      <th>4</th>\n",
       "      <td>2.772589</td>\n",
       "      <td>-74.174002</td>\n",
       "      <td>40.69183</td>\n",
       "      <td>0.866025</td>\n",
       "      <td>0.500000</td>\n",
       "      <td>-0.974928</td>\n",
       "      <td>-0.222521</td>\n",
       "    </tr>\n",
       "  </tbody>\n",
       "</table>\n",
       "</div>"
      ],
      "text/plain": [
       "   pickup_count        lon       lat  time_sin  time_cos   day_sin   day_cos\n",
       "0      1.386294 -74.174002  40.69183  0.000000  1.000000 -0.974928 -0.222521\n",
       "1      1.609438 -74.174002  40.69183  0.258819  0.965926 -0.974928 -0.222521\n",
       "2      2.079442 -74.174002  40.69183  0.500000  0.866025 -0.974928 -0.222521\n",
       "3      2.197225 -74.174002  40.69183  0.707107  0.707107 -0.974928 -0.222521\n",
       "4      2.772589 -74.174002  40.69183  0.866025  0.500000 -0.974928 -0.222521"
      ]
     },
     "execution_count": 12,
     "metadata": {},
     "output_type": "execute_result"
    }
   ],
   "source": [
    "df = pd.read_parquet('../data/processed_data/yellow_23-24_data.parquet')\n",
    "df.head()"
   ]
  },
  {
   "cell_type": "code",
   "execution_count": 13,
   "metadata": {},
   "outputs": [],
   "source": [
    "y = df['pickup_count']\n",
    "X = df.drop(columns=['pickup_count'])\n",
    "\n",
    "X_train, X_test, y_train, y_test = train_test_split(X, y, test_size=0.2, random_state=42)"
   ]
  },
  {
   "cell_type": "code",
   "execution_count": 14,
   "metadata": {},
   "outputs": [
    {
     "name": "stderr",
     "output_type": "stream",
     "text": [
      "[I 2024-12-09 16:28:48,197] A new study created in memory with name: no-name-aad99468-c083-4b8f-962b-825044c75b1a\n",
      "[I 2024-12-09 16:29:30,054] Trial 0 finished with value: 0.7479169455254399 and parameters: {'n_estimators': 991, 'max_depth': 12, 'min_samples_split': 84, 'min_samples_leaf': 6, 'max_features': 0.4422486120870721}. Best is trial 0 with value: 0.7479169455254399.\n",
      "[I 2024-12-09 16:30:08,657] Trial 1 finished with value: 0.1644008990458268 and parameters: {'n_estimators': 336, 'max_depth': 26, 'min_samples_split': 4, 'min_samples_leaf': 1, 'max_features': 0.7768424530830121}. Best is trial 1 with value: 0.1644008990458268.\n",
      "[I 2024-12-09 16:30:21,426] Trial 2 finished with value: 2.963690919723827 and parameters: {'n_estimators': 682, 'max_depth': 5, 'min_samples_split': 16, 'min_samples_leaf': 5, 'max_features': 0.2013010282596409}. Best is trial 1 with value: 0.1644008990458268.\n",
      "[I 2024-12-09 16:30:36,135] Trial 3 finished with value: 1.7743850560388914 and parameters: {'n_estimators': 519, 'max_depth': 4, 'min_samples_split': 19, 'min_samples_leaf': 8, 'max_features': 0.5935524025087068}. Best is trial 1 with value: 0.1644008990458268.\n",
      "[I 2024-12-09 16:30:41,499] Trial 4 finished with value: 3.173616052344937 and parameters: {'n_estimators': 317, 'max_depth': 2, 'min_samples_split': 21, 'min_samples_leaf': 7, 'max_features': 0.654931797361023}. Best is trial 1 with value: 0.1644008990458268.\n",
      "[I 2024-12-09 16:30:45,875] Trial 5 finished with value: 3.5564633634471776 and parameters: {'n_estimators': 293, 'max_depth': 4, 'min_samples_split': 34, 'min_samples_leaf': 4, 'max_features': 0.2037508509872574}. Best is trial 1 with value: 0.1644008990458268.\n",
      "[I 2024-12-09 16:31:31,321] Trial 6 finished with value: 0.7380831651097136 and parameters: {'n_estimators': 856, 'max_depth': 7, 'min_samples_split': 10, 'min_samples_leaf': 2, 'max_features': 0.7519520785771635}. Best is trial 1 with value: 0.1644008990458268.\n",
      "[I 2024-12-09 16:31:46,786] Trial 7 finished with value: 0.3119569578865634 and parameters: {'n_estimators': 246, 'max_depth': 13, 'min_samples_split': 7, 'min_samples_leaf': 9, 'max_features': 0.547085597260238}. Best is trial 1 with value: 0.1644008990458268.\n",
      "[I 2024-12-09 16:31:55,339] Trial 8 finished with value: 3.148521089745032 and parameters: {'n_estimators': 523, 'max_depth': 2, 'min_samples_split': 43, 'min_samples_leaf': 8, 'max_features': 0.6502055921956887}. Best is trial 1 with value: 0.1644008990458268.\n",
      "[I 2024-12-09 16:32:01,555] Trial 9 finished with value: 2.4760010782183066 and parameters: {'n_estimators': 331, 'max_depth': 6, 'min_samples_split': 2, 'min_samples_leaf': 3, 'max_features': 0.30006762863422093}. Best is trial 1 with value: 0.1644008990458268.\n",
      "[I 2024-12-09 16:32:11,160] Trial 10 finished with value: 0.33783116892269244 and parameters: {'n_estimators': 109, 'max_depth': 29, 'min_samples_split': 69, 'min_samples_leaf': 1, 'max_features': 0.9813254571041168}. Best is trial 1 with value: 0.1644008990458268.\n",
      "[I 2024-12-09 16:32:21,392] Trial 11 finished with value: 0.31717895917289735 and parameters: {'n_estimators': 115, 'max_depth': 27, 'min_samples_split': 59, 'min_samples_leaf': 10, 'max_features': 0.8959055399718516}. Best is trial 1 with value: 0.1644008990458268.\n",
      "[I 2024-12-09 16:32:39,579] Trial 12 finished with value: 0.5719377207215176 and parameters: {'n_estimators': 397, 'max_depth': 16, 'min_samples_split': 33, 'min_samples_leaf': 10, 'max_features': 0.45057525621106304}. Best is trial 1 with value: 0.1644008990458268.\n",
      "[I 2024-12-09 16:32:54,363] Trial 13 finished with value: 0.2418051453764148 and parameters: {'n_estimators': 182, 'max_depth': 16, 'min_samples_split': 28, 'min_samples_leaf': 4, 'max_features': 0.8060242397305303}. Best is trial 1 with value: 0.1644008990458268.\n",
      "[I 2024-12-09 16:33:12,108] Trial 14 finished with value: 0.23670451826932112 and parameters: {'n_estimators': 214, 'max_depth': 21, 'min_samples_split': 30, 'min_samples_leaf': 1, 'max_features': 0.8085909939423599}. Best is trial 1 with value: 0.1644008990458268.\n",
      "[I 2024-12-09 16:33:46,636] Trial 15 finished with value: 0.29031869661010484 and parameters: {'n_estimators': 449, 'max_depth': 22, 'min_samples_split': 50, 'min_samples_leaf': 1, 'max_features': 0.7867785423295116}. Best is trial 1 with value: 0.1644008990458268.\n",
      "[I 2024-12-09 16:34:38,136] Trial 16 finished with value: 0.4782057686085028 and parameters: {'n_estimators': 669, 'max_depth': 9, 'min_samples_split': 44, 'min_samples_leaf': 2, 'max_features': 0.9294057989053149}. Best is trial 1 with value: 0.1644008990458268.\n",
      "[I 2024-12-09 16:34:57,208] Trial 17 finished with value: 0.33056095319224565 and parameters: {'n_estimators': 207, 'max_depth': 21, 'min_samples_split': 66, 'min_samples_leaf': 3, 'max_features': 0.8499460978995246}. Best is trial 1 with value: 0.1644008990458268.\n",
      "[I 2024-12-09 16:35:28,310] Trial 18 finished with value: 0.40327994186633315 and parameters: {'n_estimators': 421, 'max_depth': 32, 'min_samples_split': 95, 'min_samples_leaf': 1, 'max_features': 0.7342811057692515}. Best is trial 1 with value: 0.1644008990458268.\n",
      "[I 2024-12-09 16:36:24,895] Trial 19 finished with value: 0.36880421763760673 and parameters: {'n_estimators': 669, 'max_depth': 10, 'min_samples_split': 20, 'min_samples_leaf': 2, 'max_features': 0.9904951094343855}. Best is trial 1 with value: 0.1644008990458268.\n",
      "[I 2024-12-09 16:36:46,347] Trial 20 finished with value: 0.4196461569477405 and parameters: {'n_estimators': 372, 'max_depth': 19, 'min_samples_split': 2, 'min_samples_leaf': 5, 'max_features': 0.4784627560679786}. Best is trial 1 with value: 0.1644008990458268.\n",
      "[I 2024-12-09 16:37:01,849] Trial 21 finished with value: 0.23926006058011687 and parameters: {'n_estimators': 184, 'max_depth': 16, 'min_samples_split': 27, 'min_samples_leaf': 4, 'max_features': 0.8162228547157763}. Best is trial 1 with value: 0.1644008990458268.\n",
      "[I 2024-12-09 16:37:17,676] Trial 22 finished with value: 0.23948777870109844 and parameters: {'n_estimators': 185, 'max_depth': 24, 'min_samples_split': 30, 'min_samples_leaf': 3, 'max_features': 0.6939636928099484}. Best is trial 1 with value: 0.1644008990458268.\n",
      "[I 2024-12-09 16:37:41,446] Trial 23 finished with value: 0.2910224535190001 and parameters: {'n_estimators': 251, 'max_depth': 14, 'min_samples_split': 42, 'min_samples_leaf': 4, 'max_features': 0.8549624584265778}. Best is trial 1 with value: 0.1644008990458268.\n",
      "[I 2024-12-09 16:37:55,741] Trial 24 finished with value: 0.18883080711073455 and parameters: {'n_estimators': 150, 'max_depth': 18, 'min_samples_split': 12, 'min_samples_leaf': 2, 'max_features': 0.8273021032754719}. Best is trial 1 with value: 0.1644008990458268.\n",
      "[I 2024-12-09 16:38:05,750] Trial 25 finished with value: 0.20597931326587693 and parameters: {'n_estimators': 129, 'max_depth': 32, 'min_samples_split': 12, 'min_samples_leaf': 1, 'max_features': 0.5748689954579167}. Best is trial 1 with value: 0.1644008990458268.\n",
      "[I 2024-12-09 16:38:12,105] Trial 26 finished with value: 0.40203151496604883 and parameters: {'n_estimators': 110, 'max_depth': 30, 'min_samples_split': 13, 'min_samples_leaf': 2, 'max_features': 0.3694391655218071}. Best is trial 1 with value: 0.1644008990458268.\n",
      "[I 2024-12-09 16:38:34,790] Trial 27 finished with value: 0.19609809183336613 and parameters: {'n_estimators': 283, 'max_depth': 25, 'min_samples_split': 10, 'min_samples_leaf': 1, 'max_features': 0.5438059314649321}. Best is trial 1 with value: 0.1644008990458268.\n",
      "[I 2024-12-09 16:39:02,268] Trial 28 finished with value: 0.4101507881499254 and parameters: {'n_estimators': 476, 'max_depth': 10, 'min_samples_split': 6, 'min_samples_leaf': 2, 'max_features': 0.6521835060518987}. Best is trial 1 with value: 0.1644008990458268.\n",
      "[I 2024-12-09 16:39:43,759] Trial 29 finished with value: 0.7266542033461868 and parameters: {'n_estimators': 958, 'max_depth': 18, 'min_samples_split': 85, 'min_samples_leaf': 6, 'max_features': 0.4989424310121941}. Best is trial 1 with value: 0.1644008990458268.\n",
      "[I 2024-12-09 16:40:11,627] Trial 30 finished with value: 0.5277485800240003 and parameters: {'n_estimators': 587, 'max_depth': 12, 'min_samples_split': 20, 'min_samples_leaf': 3, 'max_features': 0.3935479142163452}. Best is trial 1 with value: 0.1644008990458268.\n",
      "[I 2024-12-09 16:40:33,770] Trial 31 finished with value: 0.19993131453212934 and parameters: {'n_estimators': 283, 'max_depth': 26, 'min_samples_split': 11, 'min_samples_leaf': 1, 'max_features': 0.5694606760680928}. Best is trial 1 with value: 0.1644008990458268.\n",
      "[I 2024-12-09 16:40:53,831] Trial 32 finished with value: 0.21218230208722014 and parameters: {'n_estimators': 276, 'max_depth': 25, 'min_samples_split': 14, 'min_samples_leaf': 1, 'max_features': 0.5447893089355111}. Best is trial 1 with value: 0.1644008990458268.\n",
      "[I 2024-12-09 16:41:10,181] Trial 33 finished with value: 0.8851258096768655 and parameters: {'n_estimators': 368, 'max_depth': 25, 'min_samples_split': 7, 'min_samples_leaf': 2, 'max_features': 0.101961782675492}. Best is trial 1 with value: 0.1644008990458268.\n",
      "[I 2024-12-09 16:41:32,095] Trial 34 finished with value: 0.24262672751416536 and parameters: {'n_estimators': 309, 'max_depth': 20, 'min_samples_split': 22, 'min_samples_leaf': 1, 'max_features': 0.6145520537531515}. Best is trial 1 with value: 0.1644008990458268.\n",
      "[I 2024-12-09 16:42:05,066] Trial 35 finished with value: 0.19468559863015317 and parameters: {'n_estimators': 352, 'max_depth': 24, 'min_samples_split': 15, 'min_samples_leaf': 2, 'max_features': 0.7035243703138667}. Best is trial 1 with value: 0.1644008990458268.\n",
      "[I 2024-12-09 16:42:38,887] Trial 36 finished with value: 0.18023878741311689 and parameters: {'n_estimators': 350, 'max_depth': 17, 'min_samples_split': 2, 'min_samples_leaf': 3, 'max_features': 0.7196445359810753}. Best is trial 1 with value: 0.1644008990458268.\n",
      "[I 2024-12-09 16:43:12,882] Trial 37 finished with value: 0.5768346929168153 and parameters: {'n_estimators': 581, 'max_depth': 8, 'min_samples_split': 2, 'min_samples_leaf': 5, 'max_features': 0.7204320112352383}. Best is trial 1 with value: 0.1644008990458268.\n",
      "[I 2024-12-09 16:43:51,271] Trial 38 finished with value: 0.26915600699876785 and parameters: {'n_estimators': 500, 'max_depth': 12, 'min_samples_split': 17, 'min_samples_leaf': 3, 'max_features': 0.7616211037337708}. Best is trial 1 with value: 0.1644008990458268.\n",
      "[I 2024-12-09 16:44:00,712] Trial 39 finished with value: 2.1044245044387315 and parameters: {'n_estimators': 349, 'max_depth': 3, 'min_samples_split': 23, 'min_samples_leaf': 7, 'max_features': 0.7045559583171807}. Best is trial 1 with value: 0.1644008990458268.\n",
      "[I 2024-12-09 16:44:45,061] Trial 40 finished with value: 0.20006747400080377 and parameters: {'n_estimators': 424, 'max_depth': 17, 'min_samples_split': 16, 'min_samples_leaf': 2, 'max_features': 0.8812442768387877}. Best is trial 1 with value: 0.1644008990458268.\n",
      "[I 2024-12-09 16:45:17,473] Trial 41 finished with value: 0.17268765099212416 and parameters: {'n_estimators': 325, 'max_depth': 24, 'min_samples_split': 7, 'min_samples_leaf': 2, 'max_features': 0.6835471096477432}. Best is trial 1 with value: 0.1644008990458268.\n",
      "[I 2024-12-09 16:45:49,713] Trial 42 finished with value: 0.1910813389490236 and parameters: {'n_estimators': 348, 'max_depth': 15, 'min_samples_split': 6, 'min_samples_leaf': 3, 'max_features': 0.6784263712953287}. Best is trial 1 with value: 0.1644008990458268.\n",
      "[I 2024-12-09 16:46:07,276] Trial 43 finished with value: 0.23217752197871194 and parameters: {'n_estimators': 241, 'max_depth': 14, 'min_samples_split': 6, 'min_samples_leaf': 3, 'max_features': 0.6248806944840885}. Best is trial 1 with value: 0.1644008990458268.\n",
      "[I 2024-12-09 16:46:13,474] Trial 44 finished with value: 1.2655639881231284 and parameters: {'n_estimators': 152, 'max_depth': 5, 'min_samples_split': 6, 'min_samples_leaf': 4, 'max_features': 0.6742682557146806}. Best is trial 1 with value: 0.1644008990458268.\n",
      "[I 2024-12-09 16:47:02,468] Trial 45 finished with value: 0.22313183636990702 and parameters: {'n_estimators': 565, 'max_depth': 13, 'min_samples_split': 2, 'min_samples_leaf': 3, 'max_features': 0.7551971200489371}. Best is trial 1 with value: 0.1644008990458268.\n",
      "[I 2024-12-09 16:47:46,437] Trial 46 finished with value: 0.19857391651795375 and parameters: {'n_estimators': 399, 'max_depth': 15, 'min_samples_split': 9, 'min_samples_leaf': 4, 'max_features': 0.8446829763758973}. Best is trial 1 with value: 0.1644008990458268.\n",
      "[I 2024-12-09 16:49:06,696] Trial 47 finished with value: 0.22251684824136148 and parameters: {'n_estimators': 781, 'max_depth': 19, 'min_samples_split': 25, 'min_samples_leaf': 3, 'max_features': 0.90634683139473}. Best is trial 1 with value: 0.1644008990458268.\n",
      "[I 2024-12-09 16:49:34,845] Trial 48 finished with value: 0.33786776195496093 and parameters: {'n_estimators': 318, 'max_depth': 11, 'min_samples_split': 35, 'min_samples_leaf': 2, 'max_features': 0.9493652315694283}. Best is trial 1 with value: 0.1644008990458268.\n",
      "[I 2024-12-09 16:50:03,973] Trial 49 finished with value: 0.737329773469669 and parameters: {'n_estimators': 541, 'max_depth': 7, 'min_samples_split': 6, 'min_samples_leaf': 5, 'max_features': 0.7751146647678716}. Best is trial 1 with value: 0.1644008990458268.\n",
      "[I 2024-12-09 16:50:37,401] Trial 50 finished with value: 0.22767108150548115 and parameters: {'n_estimators': 466, 'max_depth': 22, 'min_samples_split': 18, 'min_samples_leaf': 2, 'max_features': 0.6291292427569894}. Best is trial 1 with value: 0.1644008990458268.\n",
      "[I 2024-12-09 16:51:07,981] Trial 51 finished with value: 0.19461485748323976 and parameters: {'n_estimators': 331, 'max_depth': 28, 'min_samples_split': 15, 'min_samples_leaf': 2, 'max_features': 0.6982847606353684}. Best is trial 1 with value: 0.1644008990458268.\n",
      "[I 2024-12-09 16:51:30,584] Trial 52 finished with value: 0.18404799857137144 and parameters: {'n_estimators': 232, 'max_depth': 29, 'min_samples_split': 10, 'min_samples_leaf': 3, 'max_features': 0.668845400865498}. Best is trial 1 with value: 0.1644008990458268.\n",
      "[I 2024-12-09 16:51:54,245] Trial 53 finished with value: 0.17809936386799954 and parameters: {'n_estimators': 235, 'max_depth': 18, 'min_samples_split': 2, 'min_samples_leaf': 3, 'max_features': 0.6676931504610157}. Best is trial 1 with value: 0.1644008990458268.\n",
      "[I 2024-12-09 16:52:17,561] Trial 54 finished with value: 0.18587697408532822 and parameters: {'n_estimators': 237, 'max_depth': 22, 'min_samples_split': 2, 'min_samples_leaf': 4, 'max_features': 0.7352224942559733}. Best is trial 1 with value: 0.1644008990458268.\n",
      "[I 2024-12-09 16:52:39,791] Trial 55 finished with value: 0.18589301767132854 and parameters: {'n_estimators': 227, 'max_depth': 22, 'min_samples_split': 3, 'min_samples_leaf': 4, 'max_features': 0.7344067222660084}. Best is trial 1 with value: 0.1644008990458268.\n",
      "[I 2024-12-09 16:53:00,066] Trial 56 finished with value: 0.21332795345670763 and parameters: {'n_estimators': 265, 'max_depth': 29, 'min_samples_split': 10, 'min_samples_leaf': 4, 'max_features': 0.6050335603646252}. Best is trial 1 with value: 0.1644008990458268.\n",
      "[I 2024-12-09 16:53:15,847] Trial 57 finished with value: 0.33019877465914305 and parameters: {'n_estimators': 210, 'max_depth': 32, 'min_samples_split': 65, 'min_samples_leaf': 3, 'max_features': 0.7760164231699892}. Best is trial 1 with value: 0.1644008990458268.\n",
      "[I 2024-12-09 16:53:29,253] Trial 58 finished with value: 0.21100766119671746 and parameters: {'n_estimators': 172, 'max_depth': 22, 'min_samples_split': 2, 'min_samples_leaf': 4, 'max_features': 0.6654047126706444}. Best is trial 1 with value: 0.1644008990458268.\n",
      "[I 2024-12-09 16:53:40,612] Trial 59 finished with value: 2.1062415725004504 and parameters: {'n_estimators': 407, 'max_depth': 3, 'min_samples_split': 54, 'min_samples_leaf': 5, 'max_features': 0.8010437277497092}. Best is trial 1 with value: 0.1644008990458268.\n",
      "[I 2024-12-09 16:54:09,416] Trial 60 finished with value: 0.20510965591440167 and parameters: {'n_estimators': 304, 'max_depth': 28, 'min_samples_split': 8, 'min_samples_leaf': 6, 'max_features': 0.731255815722703}. Best is trial 1 with value: 0.1644008990458268.\n",
      "[I 2024-12-09 16:54:34,480] Trial 61 finished with value: 0.1858564064983769 and parameters: {'n_estimators': 256, 'max_depth': 22, 'min_samples_split': 4, 'min_samples_leaf': 4, 'max_features': 0.7398789637114006}. Best is trial 1 with value: 0.1644008990458268.\n",
      "[I 2024-12-09 16:54:54,181] Trial 62 finished with value: 0.21066450383568053 and parameters: {'n_estimators': 246, 'max_depth': 20, 'min_samples_split': 4, 'min_samples_leaf': 4, 'max_features': 0.6422765395191901}. Best is trial 1 with value: 0.1644008990458268.\n",
      "[I 2024-12-09 16:55:16,968] Trial 63 finished with value: 0.18830980095551517 and parameters: {'n_estimators': 235, 'max_depth': 17, 'min_samples_split': 10, 'min_samples_leaf': 3, 'max_features': 0.7338322430876424}. Best is trial 1 with value: 0.1644008990458268.\n",
      "[I 2024-12-09 16:55:57,648] Trial 64 finished with value: 0.1758533424556904 and parameters: {'n_estimators': 380, 'max_depth': 23, 'min_samples_split': 5, 'min_samples_leaf': 3, 'max_features': 0.6687162344478174}. Best is trial 1 with value: 0.1644008990458268.\n",
      "[I 2024-12-09 16:56:31,737] Trial 65 finished with value: 0.2154313383620802 and parameters: {'n_estimators': 444, 'max_depth': 26, 'min_samples_split': 13, 'min_samples_leaf': 3, 'max_features': 0.6016850222399185}. Best is trial 1 with value: 0.1644008990458268.\n",
      "[I 2024-12-09 16:56:49,446] Trial 66 finished with value: 0.7067406249470322 and parameters: {'n_estimators': 377, 'max_depth': 19, 'min_samples_split': 81, 'min_samples_leaf': 3, 'max_features': 0.49573290760533395}. Best is trial 1 with value: 0.1644008990458268.\n",
      "[I 2024-12-09 16:57:12,711] Trial 67 finished with value: 0.19675965085693276 and parameters: {'n_estimators': 292, 'max_depth': 24, 'min_samples_split': 9, 'min_samples_leaf': 2, 'max_features': 0.5763985565739641}. Best is trial 1 with value: 0.1644008990458268.\n",
      "[I 2024-12-09 16:57:29,518] Trial 68 finished with value: 0.20490647946252233 and parameters: {'n_estimators': 187, 'max_depth': 30, 'min_samples_split': 19, 'min_samples_leaf': 1, 'max_features': 0.6739646109416023}. Best is trial 1 with value: 0.1644008990458268.\n",
      "[I 2024-12-09 16:58:21,073] Trial 69 finished with value: 0.20228020356810217 and parameters: {'n_estimators': 629, 'max_depth': 17, 'min_samples_split': 5, 'min_samples_leaf': 3, 'max_features': 0.6478771289649421}. Best is trial 1 with value: 0.1644008990458268.\n",
      "[I 2024-12-09 16:58:54,831] Trial 70 finished with value: 0.2313291749250194 and parameters: {'n_estimators': 384, 'max_depth': 20, 'min_samples_split': 8, 'min_samples_leaf': 9, 'max_features': 0.7945415885354663}. Best is trial 1 with value: 0.1644008990458268.\n",
      "[I 2024-12-09 16:59:21,135] Trial 71 finished with value: 0.1861950799320034 and parameters: {'n_estimators': 268, 'max_depth': 27, 'min_samples_split': 4, 'min_samples_leaf': 4, 'max_features': 0.7583943907582704}. Best is trial 1 with value: 0.1644008990458268.\n",
      "[I 2024-12-09 16:59:40,463] Trial 72 finished with value: 0.19336393542165614 and parameters: {'n_estimators': 208, 'max_depth': 22, 'min_samples_split': 12, 'min_samples_leaf': 4, 'max_features': 0.8257961406221481}. Best is trial 1 with value: 0.1644008990458268.\n",
      "[I 2024-12-09 17:00:11,058] Trial 73 finished with value: 0.19517692910201095 and parameters: {'n_estimators': 327, 'max_depth': 24, 'min_samples_split': 2, 'min_samples_leaf': 5, 'max_features': 0.7075207343646569}. Best is trial 1 with value: 0.1644008990458268.\n",
      "[I 2024-12-09 17:00:28,520] Trial 74 finished with value: 0.17919644379328042 and parameters: {'n_estimators': 148, 'max_depth': 23, 'min_samples_split': 8, 'min_samples_leaf': 3, 'max_features': 0.8673534705191958}. Best is trial 1 with value: 0.1644008990458268.\n",
      "[I 2024-12-09 17:00:43,130] Trial 75 finished with value: 0.19432162698982372 and parameters: {'n_estimators': 133, 'max_depth': 32, 'min_samples_split': 14, 'min_samples_leaf': 3, 'max_features': 0.8622539868876494}. Best is trial 1 with value: 0.1644008990458268.\n",
      "[I 2024-12-09 17:01:00,513] Trial 76 finished with value: 0.17677137072750645 and parameters: {'n_estimators': 149, 'max_depth': 18, 'min_samples_split': 8, 'min_samples_leaf': 2, 'max_features': 0.9301758211563218}. Best is trial 1 with value: 0.1644008990458268.\n",
      "[I 2024-12-09 17:01:17,779] Trial 77 finished with value: 0.18253122475813227 and parameters: {'n_estimators': 153, 'max_depth': 18, 'min_samples_split': 11, 'min_samples_leaf': 1, 'max_features': 0.9103377618747914}. Best is trial 1 with value: 0.1644008990458268.\n",
      "[I 2024-12-09 17:01:29,950] Trial 78 finished with value: 0.1800409165932208 and parameters: {'n_estimators': 106, 'max_depth': 16, 'min_samples_split': 8, 'min_samples_leaf': 1, 'max_features': 0.9626741911051782}. Best is trial 1 with value: 0.1644008990458268.\n",
      "[I 2024-12-09 17:01:40,358] Trial 79 finished with value: 0.21120606843908826 and parameters: {'n_estimators': 100, 'max_depth': 15, 'min_samples_split': 17, 'min_samples_leaf': 1, 'max_features': 0.9614947275629564}. Best is trial 1 with value: 0.1644008990458268.\n",
      "[I 2024-12-09 17:01:52,395] Trial 80 finished with value: 0.25112703077547305 and parameters: {'n_estimators': 126, 'max_depth': 13, 'min_samples_split': 23, 'min_samples_leaf': 2, 'max_features': 0.9328434352866232}. Best is trial 1 with value: 0.1644008990458268.\n",
      "[I 2024-12-09 17:02:09,920] Trial 81 finished with value: 0.17974420155448456 and parameters: {'n_estimators': 153, 'max_depth': 16, 'min_samples_split': 8, 'min_samples_leaf': 1, 'max_features': 0.9707901719029104}. Best is trial 1 with value: 0.1644008990458268.\n",
      "[I 2024-12-09 17:02:29,648] Trial 82 finished with value: 0.17291652577574568 and parameters: {'n_estimators': 165, 'max_depth': 17, 'min_samples_split': 7, 'min_samples_leaf': 1, 'max_features': 0.9787260224548615}. Best is trial 1 with value: 0.1644008990458268.\n",
      "[I 2024-12-09 17:02:49,625] Trial 83 finished with value: 0.17666668651208664 and parameters: {'n_estimators': 168, 'max_depth': 16, 'min_samples_split': 7, 'min_samples_leaf': 1, 'max_features': 0.9777763399829186}. Best is trial 1 with value: 0.1644008990458268.\n",
      "[I 2024-12-09 17:03:10,199] Trial 84 finished with value: 0.21089615498734257 and parameters: {'n_estimators': 193, 'max_depth': 14, 'min_samples_split': 13, 'min_samples_leaf': 1, 'max_features': 0.9996560434684878}. Best is trial 1 with value: 0.1644008990458268.\n",
      "[I 2024-12-09 17:03:29,886] Trial 85 finished with value: 0.17060774284775318 and parameters: {'n_estimators': 160, 'max_depth': 20, 'min_samples_split': 7, 'min_samples_leaf': 1, 'max_features': 0.8816887419144696}. Best is trial 1 with value: 0.1644008990458268.\n",
      "[I 2024-12-09 17:03:51,332] Trial 86 finished with value: 0.16906648429529825 and parameters: {'n_estimators': 167, 'max_depth': 20, 'min_samples_split': 5, 'min_samples_leaf': 2, 'max_features': 0.9296478569796802}. Best is trial 1 with value: 0.1644008990458268.\n",
      "[I 2024-12-09 17:04:14,814] Trial 87 finished with value: 0.16560291793449783 and parameters: {'n_estimators': 176, 'max_depth': 20, 'min_samples_split': 5, 'min_samples_leaf': 1, 'max_features': 0.9353273823441958}. Best is trial 1 with value: 0.1644008990458268.\n",
      "[I 2024-12-09 17:04:38,504] Trial 88 finished with value: 0.1655494049052176 and parameters: {'n_estimators': 180, 'max_depth': 20, 'min_samples_split': 5, 'min_samples_leaf': 1, 'max_features': 0.9278967333606443}. Best is trial 1 with value: 0.1644008990458268.\n",
      "[I 2024-12-09 17:04:55,760] Trial 89 finished with value: 0.2581766049307238 and parameters: {'n_estimators': 174, 'max_depth': 20, 'min_samples_split': 37, 'min_samples_leaf': 1, 'max_features': 0.8979542742151833}. Best is trial 1 with value: 0.1644008990458268.\n",
      "[I 2024-12-09 17:05:13,490] Trial 90 finished with value: 0.4098204445357282 and parameters: {'n_estimators': 205, 'max_depth': 20, 'min_samples_split': 99, 'min_samples_leaf': 1, 'max_features': 0.9816583877278445}. Best is trial 1 with value: 0.1644008990458268.\n",
      "[I 2024-12-09 17:05:34,154] Trial 91 finished with value: 0.16921653396445158 and parameters: {'n_estimators': 165, 'max_depth': 19, 'min_samples_split': 5, 'min_samples_leaf': 2, 'max_features': 0.9415684183009767}. Best is trial 1 with value: 0.1644008990458268.\n",
      "[I 2024-12-09 17:05:56,631] Trial 92 finished with value: 0.1661439402765209 and parameters: {'n_estimators': 172, 'max_depth': 26, 'min_samples_split': 5, 'min_samples_leaf': 1, 'max_features': 0.9470573033425038}. Best is trial 1 with value: 0.1644008990458268.\n",
      "[I 2024-12-09 17:06:13,173] Trial 93 finished with value: 0.1659654593508517 and parameters: {'n_estimators': 128, 'max_depth': 26, 'min_samples_split': 5, 'min_samples_leaf': 1, 'max_features': 0.943247214982164}. Best is trial 1 with value: 0.1644008990458268.\n",
      "[I 2024-12-09 17:06:30,138] Trial 94 finished with value: 0.166094048743833 and parameters: {'n_estimators': 127, 'max_depth': 27, 'min_samples_split': 5, 'min_samples_leaf': 1, 'max_features': 0.8846213162454878}. Best is trial 1 with value: 0.1644008990458268.\n",
      "[I 2024-12-09 17:06:48,758] Trial 95 finished with value: 0.16605772392476248 and parameters: {'n_estimators': 139, 'max_depth': 26, 'min_samples_split': 5, 'min_samples_leaf': 1, 'max_features': 0.8863851270324583}. Best is trial 1 with value: 0.1644008990458268.\n",
      "[I 2024-12-09 17:07:05,102] Trial 96 finished with value: 0.1659508377500892 and parameters: {'n_estimators': 125, 'max_depth': 26, 'min_samples_split': 5, 'min_samples_leaf': 1, 'max_features': 0.9397836830856139}. Best is trial 1 with value: 0.1644008990458268.\n",
      "[I 2024-12-09 17:07:18,632] Trial 97 finished with value: 0.19276004810124553 and parameters: {'n_estimators': 124, 'max_depth': 27, 'min_samples_split': 15, 'min_samples_leaf': 1, 'max_features': 0.9386454926171482}. Best is trial 1 with value: 0.1644008990458268.\n",
      "[I 2024-12-09 17:07:36,543] Trial 98 finished with value: 0.16548711610922434 and parameters: {'n_estimators': 136, 'max_depth': 26, 'min_samples_split': 4, 'min_samples_leaf': 1, 'max_features': 0.9112938961545389}. Best is trial 1 with value: 0.1644008990458268.\n",
      "[I 2024-12-09 17:07:50,887] Trial 99 finished with value: 0.18424729349756636 and parameters: {'n_estimators': 128, 'max_depth': 26, 'min_samples_split': 12, 'min_samples_leaf': 1, 'max_features': 0.9185784436265112}. Best is trial 1 with value: 0.1644008990458268.\n"
     ]
    },
    {
     "name": "stdout",
     "output_type": "stream",
     "text": [
      "Best parameters: {'n_estimators': 336, 'max_depth': 26, 'min_samples_split': 4, 'min_samples_leaf': 1, 'max_features': 0.7768424530830121}\n"
     ]
    },
    {
     "data": {
      "text/html": [
       "<style>#sk-container-id-1 {color: black;background-color: white;}#sk-container-id-1 pre{padding: 0;}#sk-container-id-1 div.sk-toggleable {background-color: white;}#sk-container-id-1 label.sk-toggleable__label {cursor: pointer;display: block;width: 100%;margin-bottom: 0;padding: 0.3em;box-sizing: border-box;text-align: center;}#sk-container-id-1 label.sk-toggleable__label-arrow:before {content: \"▸\";float: left;margin-right: 0.25em;color: #696969;}#sk-container-id-1 label.sk-toggleable__label-arrow:hover:before {color: black;}#sk-container-id-1 div.sk-estimator:hover label.sk-toggleable__label-arrow:before {color: black;}#sk-container-id-1 div.sk-toggleable__content {max-height: 0;max-width: 0;overflow: hidden;text-align: left;background-color: #f0f8ff;}#sk-container-id-1 div.sk-toggleable__content pre {margin: 0.2em;color: black;border-radius: 0.25em;background-color: #f0f8ff;}#sk-container-id-1 input.sk-toggleable__control:checked~div.sk-toggleable__content {max-height: 200px;max-width: 100%;overflow: auto;}#sk-container-id-1 input.sk-toggleable__control:checked~label.sk-toggleable__label-arrow:before {content: \"▾\";}#sk-container-id-1 div.sk-estimator input.sk-toggleable__control:checked~label.sk-toggleable__label {background-color: #d4ebff;}#sk-container-id-1 div.sk-label input.sk-toggleable__control:checked~label.sk-toggleable__label {background-color: #d4ebff;}#sk-container-id-1 input.sk-hidden--visually {border: 0;clip: rect(1px 1px 1px 1px);clip: rect(1px, 1px, 1px, 1px);height: 1px;margin: -1px;overflow: hidden;padding: 0;position: absolute;width: 1px;}#sk-container-id-1 div.sk-estimator {font-family: monospace;background-color: #f0f8ff;border: 1px dotted black;border-radius: 0.25em;box-sizing: border-box;margin-bottom: 0.5em;}#sk-container-id-1 div.sk-estimator:hover {background-color: #d4ebff;}#sk-container-id-1 div.sk-parallel-item::after {content: \"\";width: 100%;border-bottom: 1px solid gray;flex-grow: 1;}#sk-container-id-1 div.sk-label:hover label.sk-toggleable__label {background-color: #d4ebff;}#sk-container-id-1 div.sk-serial::before {content: \"\";position: absolute;border-left: 1px solid gray;box-sizing: border-box;top: 0;bottom: 0;left: 50%;z-index: 0;}#sk-container-id-1 div.sk-serial {display: flex;flex-direction: column;align-items: center;background-color: white;padding-right: 0.2em;padding-left: 0.2em;position: relative;}#sk-container-id-1 div.sk-item {position: relative;z-index: 1;}#sk-container-id-1 div.sk-parallel {display: flex;align-items: stretch;justify-content: center;background-color: white;position: relative;}#sk-container-id-1 div.sk-item::before, #sk-container-id-1 div.sk-parallel-item::before {content: \"\";position: absolute;border-left: 1px solid gray;box-sizing: border-box;top: 0;bottom: 0;left: 50%;z-index: -1;}#sk-container-id-1 div.sk-parallel-item {display: flex;flex-direction: column;z-index: 1;position: relative;background-color: white;}#sk-container-id-1 div.sk-parallel-item:first-child::after {align-self: flex-end;width: 50%;}#sk-container-id-1 div.sk-parallel-item:last-child::after {align-self: flex-start;width: 50%;}#sk-container-id-1 div.sk-parallel-item:only-child::after {width: 0;}#sk-container-id-1 div.sk-dashed-wrapped {border: 1px dashed gray;margin: 0 0.4em 0.5em 0.4em;box-sizing: border-box;padding-bottom: 0.4em;background-color: white;}#sk-container-id-1 div.sk-label label {font-family: monospace;font-weight: bold;display: inline-block;line-height: 1.2em;}#sk-container-id-1 div.sk-label-container {text-align: center;}#sk-container-id-1 div.sk-container {/* jupyter's `normalize.less` sets `[hidden] { display: none; }` but bootstrap.min.css set `[hidden] { display: none !important; }` so we also need the `!important` here to be able to override the default hidden behavior on the sphinx rendered scikit-learn.org. See: https://github.com/scikit-learn/scikit-learn/issues/21755 */display: inline-block !important;position: relative;}#sk-container-id-1 div.sk-text-repr-fallback {display: none;}</style><div id=\"sk-container-id-1\" class=\"sk-top-container\"><div class=\"sk-text-repr-fallback\"><pre>RandomForestRegressor(max_depth=26, max_features=0.7768424530830121,\n",
       "                      min_samples_split=4, n_estimators=336, random_state=42)</pre><b>In a Jupyter environment, please rerun this cell to show the HTML representation or trust the notebook. <br />On GitHub, the HTML representation is unable to render, please try loading this page with nbviewer.org.</b></div><div class=\"sk-container\" hidden><div class=\"sk-item\"><div class=\"sk-estimator sk-toggleable\"><input class=\"sk-toggleable__control sk-hidden--visually\" id=\"sk-estimator-id-1\" type=\"checkbox\" checked><label for=\"sk-estimator-id-1\" class=\"sk-toggleable__label sk-toggleable__label-arrow\">RandomForestRegressor</label><div class=\"sk-toggleable__content\"><pre>RandomForestRegressor(max_depth=26, max_features=0.7768424530830121,\n",
       "                      min_samples_split=4, n_estimators=336, random_state=42)</pre></div></div></div></div></div>"
      ],
      "text/plain": [
       "RandomForestRegressor(max_depth=26, max_features=0.7768424530830121,\n",
       "                      min_samples_split=4, n_estimators=336, random_state=42)"
      ]
     },
     "execution_count": 14,
     "metadata": {},
     "output_type": "execute_result"
    }
   ],
   "source": [
    "def objective(trial):\n",
    "    params = {\n",
    "        'n_estimators': trial.suggest_int('n_estimators', 100, 1000),\n",
    "        'max_depth': trial.suggest_int('max_depth', 2, 32, log=True),\n",
    "        'min_samples_split': trial.suggest_int('min_samples_split', 2, 100),\n",
    "        'min_samples_leaf': trial.suggest_int('min_samples_leaf', 1, 10),\n",
    "        'max_features': trial.suggest_float('max_features', 0.1, 1.0)\n",
    "    }\n",
    "    \n",
    "    rf = RandomForestRegressor(**params, random_state=42)\n",
    "    \n",
    "    kf = KFold(n_splits=5, shuffle=True, random_state=42)\n",
    "    scores = cross_val_score(rf, X_train, y_train, cv=kf, scoring='neg_mean_squared_error')\n",
    "    \n",
    "    return -np.mean(scores)\n",
    "\n",
    "study = optuna.create_study(direction='minimize')  # We want to minimize MSE\n",
    "study.optimize(objective, n_trials=100)\n",
    "\n",
    "best_params = study.best_params\n",
    "print(\"Best parameters:\", best_params)\n",
    "\n",
    "best_rf = RandomForestRegressor(**best_params, random_state=42)\n",
    "best_rf.fit(X_train, y_train)"
   ]
  },
  {
   "cell_type": "code",
   "execution_count": 15,
   "metadata": {},
   "outputs": [
    {
     "name": "stdout",
     "output_type": "stream",
     "text": [
      "R^2 Score: 0.9780\n",
      "Mean Squared Error: 0.1483\n"
     ]
    }
   ],
   "source": [
    "y_hat = best_rf.predict(X_test)\n",
    "r2 = r2_score(y_test, y_hat)\n",
    "mae = mean_squared_error(y_test, y_hat)\n",
    "\n",
    "print(f\"R^2 Score: {r2:.4f}\")\n",
    "print(f\"Mean Squared Error: {mae:.4f}\")"
   ]
  }
 ],
 "metadata": {
  "kernelspec": {
   "display_name": "Python 3",
   "language": "python",
   "name": "python3"
  },
  "language_info": {
   "codemirror_mode": {
    "name": "ipython",
    "version": 3
   },
   "file_extension": ".py",
   "mimetype": "text/x-python",
   "name": "python",
   "nbconvert_exporter": "python",
   "pygments_lexer": "ipython3",
   "version": "3.10.15"
  }
 },
 "nbformat": 4,
 "nbformat_minor": 2
}
