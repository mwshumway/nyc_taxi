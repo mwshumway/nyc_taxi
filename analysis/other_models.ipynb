{
 "cells": [
  {
   "cell_type": "code",
   "execution_count": 14,
   "metadata": {},
   "outputs": [],
   "source": [
    "import pandas as pd\n",
    "import numpy as np\n",
    "from sklearn.linear_model import Ridge, Lasso, LinearRegression \n",
    "from sklearn.tree import DecisionTreeRegressor\n",
    "from sklearn.model_selection import train_test_split\n",
    "from sklearn.metrics import r2_score, mean_squared_error"
   ]
  },
  {
   "cell_type": "markdown",
   "metadata": {},
   "source": [
    "We use the same data here that was used to train the LightGBM model"
   ]
  },
  {
   "cell_type": "code",
   "execution_count": 10,
   "metadata": {},
   "outputs": [],
   "source": [
    "df = pd.read_parquet('../data/processed_data/yellow_23-24_data.parquet')\n",
    "y = df['pickup_count']\n",
    "X = df.drop(columns=['pickup_count'])\n",
    "\n",
    "X_train, X_test, y_train, y_test = train_test_split(X, y, test_size=0.2, random_state=42)"
   ]
  },
  {
   "cell_type": "code",
   "execution_count": 11,
   "metadata": {},
   "outputs": [
    {
     "name": "stdout",
     "output_type": "stream",
     "text": [
      "LR    R^2 Score:           0.1711\n",
      "LR    Mean Squared Error:  5.5787\n",
      "\n",
      "Lasso R^2 Score:           -0.0000\n",
      "Lasso Mean Squared Error:  6.7303\n",
      "\n",
      "Ridge R^2 Score:           0.1711\n",
      "Ridge Mean Squared Error:  5.5789\n",
      "\n"
     ]
    }
   ],
   "source": [
    "LR = LinearRegression()\n",
    "lasso = Lasso(random_state=42)\n",
    "ridge = Ridge(random_state=42)\n",
    "\n",
    "LR.fit(X_train, y_train)\n",
    "lasso.fit(X_train, y_train)\n",
    "ridge.fit(X_train, y_train)\n",
    "\n",
    "y_hat_LR = LR.predict(X_test)\n",
    "y_hat_lasso = lasso.predict(X_test)\n",
    "y_hat_ridge = ridge.predict(X_test)\n",
    "\n",
    "r2_LR = r2_score(y_test, y_hat_LR)\n",
    "r2_lasso= r2_score(y_test, y_hat_lasso)\n",
    "r2_ridge = r2_score(y_test, y_hat_ridge)\n",
    "\n",
    "mae_LR = mean_squared_error(y_test, y_hat_LR)\n",
    "mae_lasso = mean_squared_error(y_test, y_hat_lasso)\n",
    "mae_ridge = mean_squared_error(y_test, y_hat_ridge)\n",
    "\n",
    "print(f\"LR    R^2 Score:           {r2_LR:.4f}\")\n",
    "print(f\"LR    Mean Squared Error:  {mae_LR:.4f}\\n\")\n",
    "\n",
    "print(f\"Lasso R^2 Score:           {r2_lasso:.4f}\")\n",
    "print(f\"Lasso Mean Squared Error:  {mae_lasso:.4f}\\n\")\n",
    "\n",
    "print(f\"Ridge R^2 Score:           {r2_ridge:.4f}\")\n",
    "print(f\"Ridge Mean Squared Error:  {mae_ridge:.4f}\\n\")"
   ]
  },
  {
   "cell_type": "code",
   "execution_count": 16,
   "metadata": {},
   "outputs": [
    {
     "name": "stdout",
     "output_type": "stream",
     "text": [
      "Tree R^2 Score:           0.9567\n",
      "Tree Mean Squared Error:  0.2912\n",
      "\n"
     ]
    }
   ],
   "source": [
    "tree = DecisionTreeRegressor(random_state=42)\n",
    "tree.fit(X_train, y_train)\n",
    "y_hat_tree = tree.predict(X_test)\n",
    "r2_tree = r2_score(y_test, y_hat_tree)\n",
    "mae_tree = mean_squared_error(y_test, y_hat_tree)\n",
    "\n",
    "print(f\"Tree R^2 Score:           {r2_tree:.4f}\")\n",
    "print(f\"Tree Mean Squared Error:  {mae_tree:.4f}\\n\")"
   ]
  }
 ],
 "metadata": {
  "kernelspec": {
   "display_name": "Python 3",
   "language": "python",
   "name": "python3"
  },
  "language_info": {
   "codemirror_mode": {
    "name": "ipython",
    "version": 3
   },
   "file_extension": ".py",
   "mimetype": "text/x-python",
   "name": "python",
   "nbconvert_exporter": "python",
   "pygments_lexer": "ipython3",
   "version": "3.10.15"
  }
 },
 "nbformat": 4,
 "nbformat_minor": 2
}
