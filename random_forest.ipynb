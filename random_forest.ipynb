{
 "cells": [
  {
   "cell_type": "code",
   "execution_count": 1,
   "metadata": {},
   "outputs": [],
   "source": [
    "import numpy as np\n",
    "import pandas as pd\n",
    "\n",
    "from sklearn.ensemble import RandomForestClassifier, GradientBoostingClassifier\n",
    "from sklearn.neighbors import KNeighborsClassifier\n",
    "from sklearn.svm import SVC\n",
    "from sklearn.model_selection import ParameterGrid, train_test_split\n",
    "from sklearn.metrics import accuracy_score"
   ]
  },
  {
   "cell_type": "code",
   "execution_count": 2,
   "metadata": {},
   "outputs": [
    {
     "name": "stdout",
     "output_type": "stream",
     "text": [
      "num data points: 24688\n",
      "num data points in X:  24688\n",
      "num data points in y:  24688\n"
     ]
    }
   ],
   "source": [
    "df = pd.read_parquet(\"data/raw_data/yellow.parquet\")\n",
    "\n",
    "# Take a small sample of the data\n",
    "df = df.sample(frac=0.0004)\n",
    "\n",
    "print('num data points:', len(df))\n",
    "\n",
    "# Get the features and target\n",
    "y = df['DOLocationID']\n",
    "X = df.drop(columns=['DOLocationID'])\n",
    "\n",
    "# Drop some columns from X\n",
    "X = X.drop(columns=['VendorID', 'tpep_pickup_datetime', 'tpep_dropoff_datetime', 'store_and_fwd_flag', 'payment_type'])\n",
    "\n",
    "# handle missing values\n",
    "X = X.fillna(X.median())\n",
    "\n",
    "# Split the data into training and testing sets\n",
    "X_train, X_test, y_train, y_test = train_test_split(X, y, test_size=0.3, random_state=42)\n",
    "\n",
    "print('num data points in X: ', len(X))\n",
    "print('num data points in y: ', len(y))"
   ]
  },
  {
   "cell_type": "code",
   "execution_count": 14,
   "metadata": {},
   "outputs": [
    {
     "name": "stdout",
     "output_type": "stream",
     "text": [
      "Best OOB Score: 0.11831659105638367\n"
     ]
    }
   ],
   "source": [
    "rf = RandomForestClassifier(oob_score=True, warm_start = False)\n",
    "\n",
    "# Create a parameter grid\n",
    "param_grid = {\"max_depth\": [30,45], \n",
    "              \"max_features\": ['sqrt', 'log2'],\n",
    "              \"n_estimators\": [100,200,300]}\n",
    "\n",
    "bestOOB = 0\n",
    "# Fit the grid search to the classifier and the parameter grid\n",
    "for params in ParameterGrid(param_grid):\n",
    "    rf.set_params(**params)\n",
    "    rf.fit(X,y)\n",
    "\n",
    "    curOOB = rf.oob_score_\n",
    "\n",
    "    if curOOB > bestOOB:\n",
    "        bestOOB = curOOB\n",
    "        best_rf = rf\n",
    "\n",
    "print(\"Best OOB Score:\",bestOOB)"
   ]
  },
  {
   "cell_type": "code",
   "execution_count": 3,
   "metadata": {},
   "outputs": [
    {
     "name": "stdout",
     "output_type": "stream",
     "text": [
      "Accuracy of KNN: 0.10\n",
      "SVM Accuracy: 0.01\n"
     ]
    }
   ],
   "source": [
    "# Create a KNN classifier\n",
    "knn = KNeighborsClassifier(n_neighbors=5)\n",
    "\n",
    "# Train the model\n",
    "knn.fit(X_train, y_train)\n",
    "\n",
    "# Make predictions on the test set\n",
    "y_pred = knn.predict(X_test)\n",
    "\n",
    "# Calculate the accuracy\n",
    "accuracy = accuracy_score(y_test, y_pred)\n",
    "print(f\"Accuracy of KNN: {accuracy:.2f}\")\n",
    "\n",
    "# Create an SVM model\n",
    "xgb  = GradientBoostingClassifier()\n",
    "\n",
    "# Train the model\n",
    "xgb.fit(X_train, y_train)\n",
    "\n",
    "# Make predictions\n",
    "y_pred = xgb.predict(X_test)\n",
    "\n",
    "# Evaluate the model\n",
    "accuracy = accuracy_score(y_test, y_pred)\n",
    "print(f\"XGB Accuracy: {accuracy:.2f}\")"
   ]
  },
  {
   "cell_type": "code",
   "execution_count": 15,
   "metadata": {},
   "outputs": [
    {
     "name": "stdout",
     "output_type": "stream",
     "text": [
      "(ii): Most important:  ['total_amount', 'PULocationID', 'trip_distance']\n",
      "      Least important:  ['improvement_surcharge', 'airport_fee', 'mta_tax']\n"
     ]
    }
   ],
   "source": [
    "indicies = best_rf.feature_importances_.argsort()\n",
    "largest = X.columns[indicies][-3:]\n",
    "smallest = X.columns[indicies][:3]\n",
    "\n",
    "print(\"(ii): Most important: \", [i for i in largest])\n",
    "print(\"      Least important: \", [i for i in smallest])"
   ]
  }
 ],
 "metadata": {
  "kernelspec": {
   "display_name": "Python 3",
   "language": "python",
   "name": "python3"
  },
  "language_info": {
   "codemirror_mode": {
    "name": "ipython",
    "version": 3
   },
   "file_extension": ".py",
   "mimetype": "text/x-python",
   "name": "python",
   "nbconvert_exporter": "python",
   "pygments_lexer": "ipython3",
   "version": "3.10.15"
  }
 },
 "nbformat": 4,
 "nbformat_minor": 2
}
